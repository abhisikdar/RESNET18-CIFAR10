{
  "nbformat": 4,
  "nbformat_minor": 0,
  "metadata": {
    "colab": {
      "name": "ELL793Assng3.ipynb",
      "provenance": []
    },
    "kernelspec": {
      "name": "python3",
      "display_name": "Python 3"
    },
    "accelerator": "GPU"
  },
  "cells": [
    {
      "cell_type": "markdown",
      "metadata": {
        "id": "d9MX4R3gKHSw"
      },
      "source": [
        "# ELL793 Assignment 3 Part (a)\n",
        "**ResNet-18 From Scratch on CIFAR-10**(Unscaled) <br>\n",
        "Abhinava Sikdar 2017MT01724 <br>\n",
        "Yashank Singh 2017MT10756"
      ]
    },
    {
      "cell_type": "markdown",
      "metadata": {
        "id": "zpE2TvBUa3Zp"
      },
      "source": [
        "Some website:\n",
        "https://github.com/kuangliu/pytorch-cifar/blob/master/main.py <br>\n",
        "https://medium.com/@wwwbbb8510/lessons-learned-from-reproducing-resnet-and-densenet-on-cifar-10-dataset-6e25b03328da "
      ]
    },
    {
      "cell_type": "code",
      "metadata": {
        "colab": {
          "base_uri": "https://localhost:8080/"
        },
        "id": "WWo3ww4TJ-_I",
        "outputId": "1fe75c9e-3916-4e45-da15-e10e4f081a8c"
      },
      "source": [
        "import torch\n",
        "from torchvision import datasets\n",
        "from torchvision import transforms\n",
        "import matplotlib.pyplot as plt\n",
        "import torch.nn as nn\n",
        "import torch.nn.functional as F\n",
        "import torchvision.models as models\n",
        "\n",
        "print('Is CUDA available', torch.cuda.is_available())\n",
        "print('Torch', torch.__version__, 'CUDA', torch.version.cuda)\n",
        "print('Device:', torch.device('cuda:0'))"
      ],
      "execution_count": null,
      "outputs": [
        {
          "output_type": "stream",
          "text": [
            "Is CUDA available True\n",
            "Torch 1.7.0+cu101 CUDA 10.1\n",
            "Device: cuda:0\n"
          ],
          "name": "stdout"
        }
      ]
    },
    {
      "cell_type": "markdown",
      "metadata": {
        "id": "9HWpbDsaKiVP"
      },
      "source": [
        "## Handling Data"
      ]
    },
    {
      "cell_type": "code",
      "metadata": {
        "colab": {
          "base_uri": "https://localhost:8080/"
        },
        "id": "GiVB1faQKauf",
        "outputId": "3acaba05-8316-4707-dc0e-a9537fba14de"
      },
      "source": [
        "data_path='../data/'\n",
        "cifar=datasets.CIFAR10(data_path, train= True, download=True, transform=transforms.ToTensor())\n",
        "cifar_val=datasets.CIFAR10(data_path, train=False, download= True, transform=transforms.ToTensor())"
      ],
      "execution_count": null,
      "outputs": [
        {
          "output_type": "stream",
          "text": [
            "Files already downloaded and verified\n",
            "Files already downloaded and verified\n"
          ],
          "name": "stdout"
        }
      ]
    },
    {
      "cell_type": "code",
      "metadata": {
        "colab": {
          "base_uri": "https://localhost:8080/"
        },
        "id": "ZmJ8lSu6KbSD",
        "outputId": "74e2359e-9dc3-4101-d59b-23436ac2cb0a"
      },
      "source": [
        "cifar_stack = torch.stack([img for img, _ in cifar], dim=3)\n",
        "print('Shape of the CIFAR stack is',cifar_stack.shape)\n",
        "mean= cifar_stack.view(3,-1).mean(dim=1)\n",
        "std= cifar_stack.view(3,-1).std(dim=1)\n",
        "print('Mean of training data is', mean)\n",
        "print('Standard deviation of training data is', std)"
      ],
      "execution_count": null,
      "outputs": [
        {
          "output_type": "stream",
          "text": [
            "Shape of the CIFAR stack is torch.Size([3, 32, 32, 50000])\n",
            "Mean of training data is tensor([0.4914, 0.4822, 0.4465])\n",
            "Standard deviation of training data is tensor([0.2470, 0.2435, 0.2616])\n"
          ],
          "name": "stdout"
        }
      ]
    },
    {
      "cell_type": "code",
      "metadata": {
        "id": "Ai-FQvHoKbd9"
      },
      "source": [
        "cifar_transformed = datasets.CIFAR10(data_path,train=True,download=False, transform=transforms.Compose([\n",
        "                                                                                                      transforms.ToTensor(),transforms.Normalize(mean,std)\n",
        "]))\n",
        "cifar_val_transformed = datasets.CIFAR10(data_path,train=False,download=False, transform=transforms.Compose([\n",
        "                                                                                                      transforms.ToTensor(),transforms.Normalize(mean,std)\n",
        "]))"
      ],
      "execution_count": null,
      "outputs": []
    },
    {
      "cell_type": "code",
      "metadata": {
        "colab": {
          "base_uri": "https://localhost:8080/",
          "height": 283
        },
        "id": "FdoGrgSqKbqE",
        "outputId": "e091a221-ba3d-4ae4-fa73-474b9da5bf99"
      },
      "source": [
        "img, label = cifar_transformed[28]\n",
        "plt.imshow(img.permute(1, 2, 0))\n",
        "plt.show()"
      ],
      "execution_count": null,
      "outputs": [
        {
          "output_type": "stream",
          "text": [
            "Clipping input data to the valid range for imshow with RGB data ([0..1] for floats or [0..255] for integers).\n"
          ],
          "name": "stderr"
        },
        {
          "output_type": "display_data",
          "data": {
            "image/png": "[encoded data removed]",
            "text/plain": [
              "<Figure size 432x288 with 1 Axes>"
            ]
          },
          "metadata": {
            "tags": [],
            "needs_background": "light"
          }
        }
      ]
    },
    {
      "cell_type": "markdown",
      "metadata": {
        "id": "aOfBOWRUK30Y"
      },
      "source": [
        "## Training ResNet on CIFAR10"
      ]
    },
    {
      "cell_type": "code",
      "metadata": {
        "id": "jeyCE7jpKb1Z"
      },
      "source": [
        "batch_size=512\n",
        "val_batch_size=1000\n",
        "num_epochs=150\n",
        "learning_rate=2*1e-3\n",
        "\n",
        "dev=torch.device(\"cuda:0\" if torch.cuda.is_available() else \"cpu\")"
      ],
      "execution_count": null,
      "outputs": []
    },
    {
      "cell_type": "code",
      "metadata": {
        "id": "y2wU-yOoKcBT"
      },
      "source": [
        "train_loader=torch.utils.data.DataLoader(cifar_transformed,batch_size=batch_size,shuffle=True, num_workers=4)\n",
        "train_acc_loader=torch.utils.data.DataLoader(cifar_transformed,batch_size=1000,shuffle=False, num_workers=4)\n",
        "val_loader = torch.utils.data.DataLoader(cifar_val_transformed, batch_size=val_batch_size, shuffle=False, num_workers=4)"
      ],
      "execution_count": null,
      "outputs": []
    },
    {
      "cell_type": "code",
      "metadata": {
        "id": "fKcWg6DlKcNN"
      },
      "source": [
        "resnet18 =models.resnet18(pretrained=False, progress=True)\n",
        "resnet18=resnet18.to(dev)\n",
        "loss_func= torch.nn.CrossEntropyLoss()\n",
        "optimizer = torch.optim.SGD(resnet18.parameters(), lr=0.05, momentum=0.9, weight_decay=5e-4)\n",
        "scheduler = torch.optim.lr_scheduler.CosineAnnealingLR(optimizer, T_max=100)"
      ],
      "execution_count": null,
      "outputs": []
    },
    {
      "cell_type": "code",
      "metadata": {
        "id": "MvwosywoKcYj"
      },
      "source": [
        "max_validation = 0\n",
        "max_epoch=0\n",
        "val_acc=[]\n",
        "train_acc=[]\n",
        "epochs=[]"
      ],
      "execution_count": null,
      "outputs": []
    },
    {
      "cell_type": "code",
      "metadata": {
        "colab": {
          "base_uri": "https://localhost:8080/"
        },
        "id": "KkehIZhUKckC",
        "outputId": "f8dfcb9b-ad50-4b58-b97a-f805e05ecd34"
      },
      "source": [
        "for i in range(num_epochs):\n",
        "\n",
        "  for imgs, labels in train_loader:\n",
        "    if dev is not None:\n",
        "      imgs,labels=imgs.to(dev),labels.to(dev)\n",
        "    out= resnet18(imgs)\n",
        "    loss=loss_func(out,labels)\n",
        "    optimizer.zero_grad()\n",
        "    loss.backward()\n",
        "    optimizer.step()\n",
        "  \n",
        "  correct_val = 0\n",
        "  total_val = 0\n",
        "  correct_train_acc=0\n",
        "  total_train_acc=0\n",
        "\n",
        "  with torch.no_grad():\n",
        "    for imgs, labels in val_loader:\n",
        "      if dev is not None:\n",
        "        imgs,labels=imgs.to(dev),labels.to(dev)\n",
        "      outputs = resnet18(imgs) \n",
        "      _, predicted = torch.max(outputs, dim=1) \n",
        "      total_val += labels.shape[0]\n",
        "      correct_val += int((predicted == labels).sum())\n",
        "    val_acc.append(correct_val/total_val)\n",
        "\n",
        "\n",
        "    for train_acc_imgs,train_acc_labels in train_acc_loader:\n",
        "      if dev is not None:\n",
        "        train_acc_imgs,train_acc_labels=train_acc_imgs.to(dev),train_acc_labels.to(dev)\n",
        "      train_acc_out=resnet18(train_acc_imgs)\n",
        "      _, train_acc_predicted = torch.max(train_acc_out, dim=1)\n",
        "      total_train_acc += train_acc_labels.shape[0]\n",
        "      correct_train_acc += int((train_acc_predicted == train_acc_labels).sum())\n",
        "    train_acc.append(correct_train_acc/total_train_acc)\n",
        "    \n",
        "    if correct_val/total_val > max_validation:\n",
        "      max_validation=correct_val/total_val\n",
        "      max_epoch=i\n",
        "      torch.save(resnet18,'./scratch.pt' )\n",
        "  epochs.append(i)\n",
        "\n",
        "  if i%1==0:\n",
        "    print(\"Epoch: %d, Loss: %f\" % (i, float(loss)))\n",
        "    print(\"Train Accuracy: \", correct_train_acc / total_train_acc)\n",
        "    print(\"Validation Accuracy: \", correct_val / total_val)\n",
        "  \n",
        "  scheduler.step()\n",
        "  # torch.save({\n",
        "  #           'epoch': num_epochs,\n",
        "  #           'model_state_dict': resnet18.state_dict(),\n",
        "  #           'optimizer_state_dict': optimizer.state_dict(),\n",
        "  #           'loss': float(loss)\n",
        "  #           }, '/content/drive/MyDrive/ass3scratch.pt')\n",
        "  # torch.save({\n",
        "  #     'epochs':epochs,\n",
        "  #     'train_acc':train_acc,\n",
        "  #     'val_acc':val_acc\n",
        "  # },'/content/drive/MyDrive/ScratchGraphArrays.pt')\n",
        "  \n",
        "  scheduler.step()\n",
        "\n",
        "print(max_validation)"
      ],
      "execution_count": null,
      "outputs": [
        {
          "output_type": "stream",
          "text": [
            "Epoch: 0, Loss: 1.256462\n",
            "Train Accuracy:  0.5564\n",
            "Validation Accuracy:  0.5314\n",
            "Epoch: 1, Loss: 1.096765\n",
            "Train Accuracy:  0.67144\n",
            "Validation Accuracy:  0.6193\n",
            "Epoch: 2, Loss: 0.883498\n",
            "Train Accuracy:  0.7274\n",
            "Validation Accuracy:  0.6524\n",
            "Epoch: 3, Loss: 0.799509\n",
            "Train Accuracy:  0.7664\n",
            "Validation Accuracy:  0.668\n",
            "Epoch: 4, Loss: 0.650728\n",
            "Train Accuracy:  0.82252\n",
            "Validation Accuracy:  0.6948\n",
            "Epoch: 5, Loss: 0.619678\n",
            "Train Accuracy:  0.86046\n",
            "Validation Accuracy:  0.7039\n",
            "Epoch: 6, Loss: 0.471761\n",
            "Train Accuracy:  0.88126\n",
            "Validation Accuracy:  0.699\n",
            "Epoch: 7, Loss: 0.430016\n",
            "Train Accuracy:  0.90722\n",
            "Validation Accuracy:  0.7024\n",
            "Epoch: 8, Loss: 0.374100\n",
            "Train Accuracy:  0.92766\n",
            "Validation Accuracy:  0.7105\n",
            "Epoch: 9, Loss: 0.275917\n",
            "Train Accuracy:  0.94306\n",
            "Validation Accuracy:  0.7182\n",
            "Epoch: 10, Loss: 0.203459\n",
            "Train Accuracy:  0.9511\n",
            "Validation Accuracy:  0.717\n",
            "Epoch: 11, Loss: 0.158999\n",
            "Train Accuracy:  0.964\n",
            "Validation Accuracy:  0.715\n",
            "Epoch: 12, Loss: 0.231024\n",
            "Train Accuracy:  0.96878\n",
            "Validation Accuracy:  0.7222\n",
            "Epoch: 13, Loss: 0.169765\n",
            "Train Accuracy:  0.97072\n",
            "Validation Accuracy:  0.7187\n",
            "Epoch: 14, Loss: 0.162774\n",
            "Train Accuracy:  0.977\n",
            "Validation Accuracy:  0.7264\n",
            "Epoch: 15, Loss: 0.099063\n",
            "Train Accuracy:  0.97844\n",
            "Validation Accuracy:  0.7208\n",
            "Epoch: 16, Loss: 0.068695\n",
            "Train Accuracy:  0.97678\n",
            "Validation Accuracy:  0.7203\n",
            "Epoch: 17, Loss: 0.071067\n",
            "Train Accuracy:  0.98556\n",
            "Validation Accuracy:  0.7265\n",
            "Epoch: 18, Loss: 0.046195\n",
            "Train Accuracy:  0.9916\n",
            "Validation Accuracy:  0.7402\n",
            "Epoch: 19, Loss: 0.040440\n",
            "Train Accuracy:  0.99392\n",
            "Validation Accuracy:  0.7365\n",
            "Epoch: 20, Loss: 0.009138\n",
            "Train Accuracy:  0.9965\n",
            "Validation Accuracy:  0.7351\n",
            "Epoch: 21, Loss: 0.009918\n",
            "Train Accuracy:  0.99852\n",
            "Validation Accuracy:  0.74\n",
            "Epoch: 22, Loss: 0.009025\n",
            "Train Accuracy:  0.99968\n",
            "Validation Accuracy:  0.7453\n",
            "Epoch: 23, Loss: 0.000689\n",
            "Train Accuracy:  0.99986\n",
            "Validation Accuracy:  0.7489\n",
            "Epoch: 24, Loss: 0.000746\n",
            "Train Accuracy:  1.0\n",
            "Validation Accuracy:  0.7526\n",
            "Epoch: 25, Loss: 0.000226\n",
            "Train Accuracy:  1.0\n",
            "Validation Accuracy:  0.7527\n",
            "Epoch: 26, Loss: 0.000342\n",
            "Train Accuracy:  1.0\n",
            "Validation Accuracy:  0.753\n",
            "Epoch: 27, Loss: 0.000305\n",
            "Train Accuracy:  1.0\n",
            "Validation Accuracy:  0.7547\n",
            "Epoch: 28, Loss: 0.000497\n",
            "Train Accuracy:  1.0\n",
            "Validation Accuracy:  0.7548\n",
            "Epoch: 29, Loss: 0.000228\n",
            "Train Accuracy:  1.0\n",
            "Validation Accuracy:  0.7549\n",
            "Epoch: 30, Loss: 0.000423\n",
            "Train Accuracy:  1.0\n",
            "Validation Accuracy:  0.755\n",
            "Epoch: 31, Loss: 0.000270\n",
            "Train Accuracy:  1.0\n",
            "Validation Accuracy:  0.7547\n",
            "Epoch: 32, Loss: 0.000380\n",
            "Train Accuracy:  1.0\n",
            "Validation Accuracy:  0.7551\n",
            "Epoch: 33, Loss: 0.000463\n",
            "Train Accuracy:  1.0\n",
            "Validation Accuracy:  0.7552\n",
            "Epoch: 34, Loss: 0.000343\n",
            "Train Accuracy:  1.0\n",
            "Validation Accuracy:  0.7551\n",
            "Epoch: 35, Loss: 0.000314\n",
            "Train Accuracy:  1.0\n",
            "Validation Accuracy:  0.7557\n",
            "Epoch: 36, Loss: 0.000352\n",
            "Train Accuracy:  1.0\n",
            "Validation Accuracy:  0.756\n",
            "Epoch: 37, Loss: 0.000254\n",
            "Train Accuracy:  1.0\n",
            "Validation Accuracy:  0.756\n",
            "Epoch: 38, Loss: 0.000336\n",
            "Train Accuracy:  1.0\n",
            "Validation Accuracy:  0.7562\n",
            "Epoch: 39, Loss: 0.000522\n",
            "Train Accuracy:  1.0\n",
            "Validation Accuracy:  0.7561\n",
            "Epoch: 40, Loss: 0.000255\n",
            "Train Accuracy:  1.0\n",
            "Validation Accuracy:  0.7561\n",
            "Epoch: 41, Loss: 0.000347\n",
            "Train Accuracy:  1.0\n",
            "Validation Accuracy:  0.7558\n",
            "Epoch: 42, Loss: 0.000424\n",
            "Train Accuracy:  1.0\n",
            "Validation Accuracy:  0.7558\n",
            "Epoch: 43, Loss: 0.000345\n",
            "Train Accuracy:  1.0\n",
            "Validation Accuracy:  0.7558\n",
            "Epoch: 44, Loss: 0.000383\n",
            "Train Accuracy:  1.0\n",
            "Validation Accuracy:  0.7558\n",
            "Epoch: 45, Loss: 0.000512\n",
            "Train Accuracy:  1.0\n",
            "Validation Accuracy:  0.756\n",
            "Epoch: 46, Loss: 0.000379\n",
            "Train Accuracy:  1.0\n",
            "Validation Accuracy:  0.756\n",
            "Epoch: 47, Loss: 0.000519\n",
            "Train Accuracy:  1.0\n",
            "Validation Accuracy:  0.7561\n",
            "Epoch: 48, Loss: 0.000339\n",
            "Train Accuracy:  1.0\n",
            "Validation Accuracy:  0.7561\n",
            "Epoch: 49, Loss: 0.000341\n",
            "Train Accuracy:  1.0\n",
            "Validation Accuracy:  0.7561\n",
            "Epoch: 50, Loss: 0.000428\n",
            "Train Accuracy:  1.0\n",
            "Validation Accuracy:  0.7561\n",
            "Epoch: 51, Loss: 0.000339\n",
            "Train Accuracy:  1.0\n",
            "Validation Accuracy:  0.7562\n",
            "Epoch: 52, Loss: 0.000688\n",
            "Train Accuracy:  1.0\n",
            "Validation Accuracy:  0.756\n",
            "Epoch: 53, Loss: 0.000270\n",
            "Train Accuracy:  1.0\n",
            "Validation Accuracy:  0.7562\n",
            "Epoch: 54, Loss: 0.000892\n",
            "Train Accuracy:  1.0\n",
            "Validation Accuracy:  0.7561\n",
            "Epoch: 55, Loss: 0.000290\n",
            "Train Accuracy:  1.0\n",
            "Validation Accuracy:  0.7561\n",
            "Epoch: 56, Loss: 0.000351\n",
            "Train Accuracy:  1.0\n",
            "Validation Accuracy:  0.7563\n",
            "Epoch: 57, Loss: 0.000406\n",
            "Train Accuracy:  1.0\n",
            "Validation Accuracy:  0.756\n",
            "Epoch: 58, Loss: 0.000451\n",
            "Train Accuracy:  1.0\n",
            "Validation Accuracy:  0.7563\n",
            "Epoch: 59, Loss: 0.000396\n",
            "Train Accuracy:  1.0\n",
            "Validation Accuracy:  0.7561\n",
            "Epoch: 60, Loss: 0.000340\n",
            "Train Accuracy:  1.0\n",
            "Validation Accuracy:  0.7566\n",
            "Epoch: 61, Loss: 0.000304\n",
            "Train Accuracy:  1.0\n",
            "Validation Accuracy:  0.7564\n",
            "Epoch: 62, Loss: 0.000543\n",
            "Train Accuracy:  1.0\n",
            "Validation Accuracy:  0.7567\n",
            "Epoch: 63, Loss: 0.000404\n",
            "Train Accuracy:  1.0\n",
            "Validation Accuracy:  0.7567\n",
            "Epoch: 64, Loss: 0.000394\n",
            "Train Accuracy:  1.0\n",
            "Validation Accuracy:  0.757\n",
            "Epoch: 65, Loss: 0.000283\n",
            "Train Accuracy:  1.0\n",
            "Validation Accuracy:  0.7564\n",
            "Epoch: 66, Loss: 0.000530\n",
            "Train Accuracy:  1.0\n",
            "Validation Accuracy:  0.7569\n",
            "Epoch: 67, Loss: 0.000350\n",
            "Train Accuracy:  1.0\n",
            "Validation Accuracy:  0.7568\n",
            "Epoch: 68, Loss: 0.000601\n",
            "Train Accuracy:  1.0\n",
            "Validation Accuracy:  0.7571\n",
            "Epoch: 69, Loss: 0.000918\n",
            "Train Accuracy:  1.0\n",
            "Validation Accuracy:  0.7573\n",
            "Epoch: 70, Loss: 0.000532\n",
            "Train Accuracy:  1.0\n",
            "Validation Accuracy:  0.7572\n",
            "Epoch: 71, Loss: 0.000426\n",
            "Train Accuracy:  1.0\n",
            "Validation Accuracy:  0.7571\n",
            "Epoch: 72, Loss: 0.000500\n",
            "Train Accuracy:  1.0\n",
            "Validation Accuracy:  0.7576\n",
            "Epoch: 73, Loss: 0.000498\n",
            "Train Accuracy:  1.0\n",
            "Validation Accuracy:  0.7572\n",
            "Epoch: 74, Loss: 0.000503\n",
            "Train Accuracy:  1.0\n",
            "Validation Accuracy:  0.757\n",
            "Epoch: 75, Loss: 0.000527\n",
            "Train Accuracy:  1.0\n",
            "Validation Accuracy:  0.757\n",
            "Epoch: 76, Loss: 0.000526\n",
            "Train Accuracy:  1.0\n",
            "Validation Accuracy:  0.7575\n",
            "Epoch: 77, Loss: 0.000495\n",
            "Train Accuracy:  1.0\n",
            "Validation Accuracy:  0.7581\n",
            "Epoch: 78, Loss: 0.000394\n",
            "Train Accuracy:  1.0\n",
            "Validation Accuracy:  0.7572\n",
            "Epoch: 79, Loss: 0.000521\n",
            "Train Accuracy:  1.0\n",
            "Validation Accuracy:  0.7567\n",
            "Epoch: 80, Loss: 0.000563\n",
            "Train Accuracy:  1.0\n",
            "Validation Accuracy:  0.7572\n",
            "Epoch: 81, Loss: 0.000548\n",
            "Train Accuracy:  1.0\n",
            "Validation Accuracy:  0.7583\n",
            "Epoch: 82, Loss: 0.000589\n",
            "Train Accuracy:  1.0\n",
            "Validation Accuracy:  0.7584\n",
            "Epoch: 83, Loss: 0.000468\n",
            "Train Accuracy:  1.0\n",
            "Validation Accuracy:  0.7587\n",
            "Epoch: 84, Loss: 0.000560\n",
            "Train Accuracy:  1.0\n",
            "Validation Accuracy:  0.7579\n",
            "Epoch: 85, Loss: 0.000494\n",
            "Train Accuracy:  1.0\n",
            "Validation Accuracy:  0.7581\n",
            "Epoch: 86, Loss: 0.001054\n",
            "Train Accuracy:  1.0\n",
            "Validation Accuracy:  0.7568\n",
            "Epoch: 87, Loss: 0.000491\n",
            "Train Accuracy:  1.0\n",
            "Validation Accuracy:  0.7578\n",
            "Epoch: 88, Loss: 0.000510\n",
            "Train Accuracy:  1.0\n",
            "Validation Accuracy:  0.7584\n",
            "Epoch: 89, Loss: 0.000628\n",
            "Train Accuracy:  1.0\n",
            "Validation Accuracy:  0.7579\n",
            "Epoch: 90, Loss: 0.000541\n",
            "Train Accuracy:  1.0\n",
            "Validation Accuracy:  0.7585\n",
            "Epoch: 91, Loss: 0.000770\n",
            "Train Accuracy:  1.0\n",
            "Validation Accuracy:  0.7583\n",
            "Epoch: 92, Loss: 0.000533\n",
            "Train Accuracy:  1.0\n",
            "Validation Accuracy:  0.7588\n",
            "Epoch: 93, Loss: 0.000600\n",
            "Train Accuracy:  1.0\n",
            "Validation Accuracy:  0.7594\n",
            "Epoch: 94, Loss: 0.000713\n",
            "Train Accuracy:  1.0\n",
            "Validation Accuracy:  0.7584\n",
            "Epoch: 95, Loss: 0.000813\n",
            "Train Accuracy:  1.0\n",
            "Validation Accuracy:  0.7595\n",
            "Epoch: 96, Loss: 0.000892\n",
            "Train Accuracy:  1.0\n",
            "Validation Accuracy:  0.7598\n",
            "Epoch: 97, Loss: 0.000537\n",
            "Train Accuracy:  1.0\n",
            "Validation Accuracy:  0.7581\n",
            "Epoch: 98, Loss: 0.000595\n",
            "Train Accuracy:  1.0\n",
            "Validation Accuracy:  0.7591\n",
            "Epoch: 99, Loss: 0.000765\n",
            "Train Accuracy:  1.0\n",
            "Validation Accuracy:  0.7587\n",
            "Epoch: 100, Loss: 0.000553\n",
            "Train Accuracy:  1.0\n",
            "Validation Accuracy:  0.758\n",
            "Epoch: 101, Loss: 0.000629\n",
            "Train Accuracy:  1.0\n",
            "Validation Accuracy:  0.7567\n",
            "Epoch: 102, Loss: 0.000984\n",
            "Train Accuracy:  1.0\n",
            "Validation Accuracy:  0.757\n",
            "Epoch: 103, Loss: 0.000923\n",
            "Train Accuracy:  1.0\n",
            "Validation Accuracy:  0.7579\n",
            "Epoch: 104, Loss: 0.000671\n",
            "Train Accuracy:  1.0\n",
            "Validation Accuracy:  0.7567\n",
            "Epoch: 105, Loss: 0.000710\n",
            "Train Accuracy:  1.0\n",
            "Validation Accuracy:  0.7556\n",
            "Epoch: 106, Loss: 0.000782\n",
            "Train Accuracy:  1.0\n",
            "Validation Accuracy:  0.7568\n",
            "Epoch: 107, Loss: 0.000727\n",
            "Train Accuracy:  1.0\n",
            "Validation Accuracy:  0.7549\n",
            "Epoch: 108, Loss: 0.000701\n",
            "Train Accuracy:  1.0\n",
            "Validation Accuracy:  0.757\n",
            "Epoch: 109, Loss: 0.001045\n",
            "Train Accuracy:  1.0\n",
            "Validation Accuracy:  0.756\n",
            "Epoch: 110, Loss: 0.000928\n",
            "Train Accuracy:  1.0\n",
            "Validation Accuracy:  0.7544\n",
            "Epoch: 111, Loss: 0.000995\n",
            "Train Accuracy:  1.0\n",
            "Validation Accuracy:  0.754\n",
            "Epoch: 112, Loss: 0.000805\n",
            "Train Accuracy:  1.0\n",
            "Validation Accuracy:  0.7544\n",
            "Epoch: 113, Loss: 0.000674\n",
            "Train Accuracy:  1.0\n",
            "Validation Accuracy:  0.7547\n",
            "Epoch: 114, Loss: 0.000861\n",
            "Train Accuracy:  1.0\n",
            "Validation Accuracy:  0.7551\n",
            "Epoch: 115, Loss: 0.000758\n",
            "Train Accuracy:  1.0\n",
            "Validation Accuracy:  0.7547\n",
            "Epoch: 116, Loss: 0.000900\n",
            "Train Accuracy:  1.0\n",
            "Validation Accuracy:  0.7532\n",
            "Epoch: 117, Loss: 0.000920\n",
            "Train Accuracy:  1.0\n",
            "Validation Accuracy:  0.7537\n",
            "Epoch: 118, Loss: 0.001069\n",
            "Train Accuracy:  1.0\n",
            "Validation Accuracy:  0.7532\n",
            "Epoch: 119, Loss: 0.000829\n",
            "Train Accuracy:  1.0\n",
            "Validation Accuracy:  0.7538\n",
            "Epoch: 120, Loss: 0.000765\n",
            "Train Accuracy:  1.0\n",
            "Validation Accuracy:  0.7535\n",
            "Epoch: 121, Loss: 0.000882\n",
            "Train Accuracy:  1.0\n",
            "Validation Accuracy:  0.7534\n",
            "Epoch: 122, Loss: 0.000690\n",
            "Train Accuracy:  1.0\n",
            "Validation Accuracy:  0.7528\n",
            "Epoch: 123, Loss: 0.000691\n",
            "Train Accuracy:  1.0\n",
            "Validation Accuracy:  0.7522\n",
            "Epoch: 124, Loss: 0.000881\n",
            "Train Accuracy:  1.0\n",
            "Validation Accuracy:  0.7521\n",
            "Epoch: 125, Loss: 0.000797\n",
            "Train Accuracy:  1.0\n",
            "Validation Accuracy:  0.7525\n",
            "Epoch: 126, Loss: 0.000936\n",
            "Train Accuracy:  1.0\n",
            "Validation Accuracy:  0.7517\n",
            "Epoch: 127, Loss: 0.000887\n",
            "Train Accuracy:  1.0\n",
            "Validation Accuracy:  0.7518\n",
            "Epoch: 128, Loss: 0.000774\n",
            "Train Accuracy:  1.0\n",
            "Validation Accuracy:  0.7522\n",
            "Epoch: 129, Loss: 0.000862\n",
            "Train Accuracy:  1.0\n",
            "Validation Accuracy:  0.7521\n",
            "Epoch: 130, Loss: 0.000958\n",
            "Train Accuracy:  1.0\n",
            "Validation Accuracy:  0.7516\n",
            "Epoch: 131, Loss: 0.000701\n",
            "Train Accuracy:  1.0\n",
            "Validation Accuracy:  0.7517\n",
            "Epoch: 132, Loss: 0.000949\n",
            "Train Accuracy:  1.0\n",
            "Validation Accuracy:  0.7516\n",
            "Epoch: 133, Loss: 0.000986\n",
            "Train Accuracy:  1.0\n",
            "Validation Accuracy:  0.7518\n",
            "Epoch: 134, Loss: 0.000778\n",
            "Train Accuracy:  1.0\n",
            "Validation Accuracy:  0.7509\n",
            "Epoch: 135, Loss: 0.000870\n",
            "Train Accuracy:  1.0\n",
            "Validation Accuracy:  0.7508\n",
            "Epoch: 136, Loss: 0.000865\n",
            "Train Accuracy:  1.0\n",
            "Validation Accuracy:  0.7508\n",
            "Epoch: 137, Loss: 0.000829\n",
            "Train Accuracy:  1.0\n",
            "Validation Accuracy:  0.7508\n",
            "Epoch: 138, Loss: 0.000971\n",
            "Train Accuracy:  1.0\n",
            "Validation Accuracy:  0.7506\n",
            "Epoch: 139, Loss: 0.000899\n",
            "Train Accuracy:  1.0\n",
            "Validation Accuracy:  0.7508\n",
            "Epoch: 140, Loss: 0.000955\n",
            "Train Accuracy:  1.0\n",
            "Validation Accuracy:  0.7506\n",
            "Epoch: 141, Loss: 0.000792\n",
            "Train Accuracy:  1.0\n",
            "Validation Accuracy:  0.7507\n",
            "Epoch: 142, Loss: 0.000869\n",
            "Train Accuracy:  1.0\n",
            "Validation Accuracy:  0.7506\n",
            "Epoch: 143, Loss: 0.000892\n",
            "Train Accuracy:  1.0\n",
            "Validation Accuracy:  0.7499\n",
            "Epoch: 144, Loss: 0.000857\n",
            "Train Accuracy:  1.0\n",
            "Validation Accuracy:  0.7499\n",
            "Epoch: 145, Loss: 0.000789\n",
            "Train Accuracy:  1.0\n",
            "Validation Accuracy:  0.7501\n",
            "Epoch: 146, Loss: 0.000770\n",
            "Train Accuracy:  1.0\n",
            "Validation Accuracy:  0.7501\n",
            "Epoch: 147, Loss: 0.001025\n",
            "Train Accuracy:  1.0\n",
            "Validation Accuracy:  0.7503\n",
            "Epoch: 148, Loss: 0.000759\n",
            "Train Accuracy:  1.0\n",
            "Validation Accuracy:  0.7503\n",
            "Epoch: 149, Loss: 0.000767\n",
            "Train Accuracy:  1.0\n",
            "Validation Accuracy:  0.7503\n",
            "0.7598\n"
          ],
          "name": "stdout"
        }
      ]
    },
    {
      "cell_type": "code",
      "metadata": {
        "colab": {
          "base_uri": "https://localhost:8080/",
          "height": 297
        },
        "id": "MVva9igHEavN",
        "outputId": "b286eb82-7bde-417f-c5d0-c8734202b620"
      },
      "source": [
        "plt.plot(epochs, val_acc, label=\"val acc\", color=\"green\", linestyle='-.')\n",
        "plt.plot(epochs, train_acc, label=\"train acc\", color=\"red\",linestyle=':')\n",
        "plt.scatter([max_epoch], [max_validation],color=\"blue\", marker=\"d\", label=\"early stopped\", s=100 )\n",
        "plt.title(\"Model trained from scratch\")\n",
        "plt.legend()\n",
        "plt.tight_layout()\n",
        "plt.savefig('scratch.png',dpi=600)\n",
        "plt.show()\n",
        "torch.save(val_acc, 'val_accscratch.pt')\n",
        "torch.save(train_acc, 'train_accscratch.pt')"
      ],
      "execution_count": null,
      "outputs": [
        {
          "output_type": "display_data",
          "data": {
            "image/png": "[encoded data removed]",
            "text/plain": [
              "<Figure size 432x288 with 1 Axes>"
            ]
          },
          "metadata": {
            "tags": [],
            "needs_background": "light"
          }
        }
      ]
    },
    {
      "cell_type": "code",
      "metadata": {
        "colab": {
          "base_uri": "https://localhost:8080/",
          "height": 34
        },
        "id": "hzL-B4JGF9LC",
        "outputId": "11fb959a-b24e-48df-90e5-a421bf68555a"
      },
      "source": [
        "from google.colab import files\n",
        "files.download('scratch.png') \n",
        "files.download('val_accscratch.pt') \n",
        "files.download('train_accscratch.pt') \n",
        "files.download('./scratch.pt') "
      ],
      "execution_count": null,
      "outputs": [
        {
          "output_type": "display_data",
          "data": {
            "application/javascript": [
              "\n",
              "    async function download(id, filename, size) {\n",
              "      if (!google.colab.kernel.accessAllowed) {\n",
              "        return;\n",
              "      }\n",
              "      const div = document.createElement('div');\n",
              "      const label = document.createElement('label');\n",
              "      label.textContent = `Downloading \"${filename}\": `;\n",
              "      div.appendChild(label);\n",
              "      const progress = document.createElement('progress');\n",
              "      progress.max = size;\n",
              "      div.appendChild(progress);\n",
              "      document.body.appendChild(div);\n",
              "\n",
              "      const buffers = [];\n",
              "      let downloaded = 0;\n",
              "\n",
              "      const channel = await google.colab.kernel.comms.open(id);\n",
              "      // Send a message to notify the kernel that we're ready.\n",
              "      channel.send({})\n",
              "\n",
              "      for await (const message of channel.messages) {\n",
              "        // Send a message to notify the kernel that we're ready.\n",
              "        channel.send({})\n",
              "        if (message.buffers) {\n",
              "          for (const buffer of message.buffers) {\n",
              "            buffers.push(buffer);\n",
              "            downloaded += buffer.byteLength;\n",
              "            progress.value = downloaded;\n",
              "          }\n",
              "        }\n",
              "      }\n",
              "      const blob = new Blob(buffers, {type: 'application/binary'});\n",
              "      const a = document.createElement('a');\n",
              "      a.href = window.URL.createObjectURL(blob);\n",
              "      a.download = filename;\n",
              "      div.appendChild(a);\n",
              "      a.click();\n",
              "      div.remove();\n",
              "    }\n",
              "  "
            ],
            "text/plain": [
              "<IPython.core.display.Javascript object>"
            ]
          },
          "metadata": {
            "tags": []
          }
        },
        {
          "output_type": "display_data",
          "data": {
            "application/javascript": [
              "download(\"download_1c0cada9-32bc-4bb3-81e1-ab74383c77ec\", \"scratch.png\", 187212)"
            ],
            "text/plain": [
              "<IPython.core.display.Javascript object>"
            ]
          },
          "metadata": {
            "tags": []
          }
        },
        {
          "output_type": "display_data",
          "data": {
            "application/javascript": [
              "\n",
              "    async function download(id, filename, size) {\n",
              "      if (!google.colab.kernel.accessAllowed) {\n",
              "        return;\n",
              "      }\n",
              "      const div = document.createElement('div');\n",
              "      const label = document.createElement('label');\n",
              "      label.textContent = `Downloading \"${filename}\": `;\n",
              "      div.appendChild(label);\n",
              "      const progress = document.createElement('progress');\n",
              "      progress.max = size;\n",
              "      div.appendChild(progress);\n",
              "      document.body.appendChild(div);\n",
              "\n",
              "      const buffers = [];\n",
              "      let downloaded = 0;\n",
              "\n",
              "      const channel = await google.colab.kernel.comms.open(id);\n",
              "      // Send a message to notify the kernel that we're ready.\n",
              "      channel.send({})\n",
              "\n",
              "      for await (const message of channel.messages) {\n",
              "        // Send a message to notify the kernel that we're ready.\n",
              "        channel.send({})\n",
              "        if (message.buffers) {\n",
              "          for (const buffer of message.buffers) {\n",
              "            buffers.push(buffer);\n",
              "            downloaded += buffer.byteLength;\n",
              "            progress.value = downloaded;\n",
              "          }\n",
              "        }\n",
              "      }\n",
              "      const blob = new Blob(buffers, {type: 'application/binary'});\n",
              "      const a = document.createElement('a');\n",
              "      a.href = window.URL.createObjectURL(blob);\n",
              "      a.download = filename;\n",
              "      div.appendChild(a);\n",
              "      a.click();\n",
              "      div.remove();\n",
              "    }\n",
              "  "
            ],
            "text/plain": [
              "<IPython.core.display.Javascript object>"
            ]
          },
          "metadata": {
            "tags": []
          }
        },
        {
          "output_type": "display_data",
          "data": {
            "application/javascript": [
              "download(\"download_684787ed-159d-4585-ac7f-628106147e28\", \"val_accscratch.pt\", 1775)"
            ],
            "text/plain": [
              "<IPython.core.display.Javascript object>"
            ]
          },
          "metadata": {
            "tags": []
          }
        },
        {
          "output_type": "display_data",
          "data": {
            "application/javascript": [
              "\n",
              "    async function download(id, filename, size) {\n",
              "      if (!google.colab.kernel.accessAllowed) {\n",
              "        return;\n",
              "      }\n",
              "      const div = document.createElement('div');\n",
              "      const label = document.createElement('label');\n",
              "      label.textContent = `Downloading \"${filename}\": `;\n",
              "      div.appendChild(label);\n",
              "      const progress = document.createElement('progress');\n",
              "      progress.max = size;\n",
              "      div.appendChild(progress);\n",
              "      document.body.appendChild(div);\n",
              "\n",
              "      const buffers = [];\n",
              "      let downloaded = 0;\n",
              "\n",
              "      const channel = await google.colab.kernel.comms.open(id);\n",
              "      // Send a message to notify the kernel that we're ready.\n",
              "      channel.send({})\n",
              "\n",
              "      for await (const message of channel.messages) {\n",
              "        // Send a message to notify the kernel that we're ready.\n",
              "        channel.send({})\n",
              "        if (message.buffers) {\n",
              "          for (const buffer of message.buffers) {\n",
              "            buffers.push(buffer);\n",
              "            downloaded += buffer.byteLength;\n",
              "            progress.value = downloaded;\n",
              "          }\n",
              "        }\n",
              "      }\n",
              "      const blob = new Blob(buffers, {type: 'application/binary'});\n",
              "      const a = document.createElement('a');\n",
              "      a.href = window.URL.createObjectURL(blob);\n",
              "      a.download = filename;\n",
              "      div.appendChild(a);\n",
              "      a.click();\n",
              "      div.remove();\n",
              "    }\n",
              "  "
            ],
            "text/plain": [
              "<IPython.core.display.Javascript object>"
            ]
          },
          "metadata": {
            "tags": []
          }
        },
        {
          "output_type": "display_data",
          "data": {
            "application/javascript": [
              "download(\"download_bba1c609-ff55-4a9e-88cc-019bf3b899c8\", \"train_accscratch.pt\", 1775)"
            ],
            "text/plain": [
              "<IPython.core.display.Javascript object>"
            ]
          },
          "metadata": {
            "tags": []
          }
        },
        {
          "output_type": "display_data",
          "data": {
            "application/javascript": [
              "\n",
              "    async function download(id, filename, size) {\n",
              "      if (!google.colab.kernel.accessAllowed) {\n",
              "        return;\n",
              "      }\n",
              "      const div = document.createElement('div');\n",
              "      const label = document.createElement('label');\n",
              "      label.textContent = `Downloading \"${filename}\": `;\n",
              "      div.appendChild(label);\n",
              "      const progress = document.createElement('progress');\n",
              "      progress.max = size;\n",
              "      div.appendChild(progress);\n",
              "      document.body.appendChild(div);\n",
              "\n",
              "      const buffers = [];\n",
              "      let downloaded = 0;\n",
              "\n",
              "      const channel = await google.colab.kernel.comms.open(id);\n",
              "      // Send a message to notify the kernel that we're ready.\n",
              "      channel.send({})\n",
              "\n",
              "      for await (const message of channel.messages) {\n",
              "        // Send a message to notify the kernel that we're ready.\n",
              "        channel.send({})\n",
              "        if (message.buffers) {\n",
              "          for (const buffer of message.buffers) {\n",
              "            buffers.push(buffer);\n",
              "            downloaded += buffer.byteLength;\n",
              "            progress.value = downloaded;\n",
              "          }\n",
              "        }\n",
              "      }\n",
              "      const blob = new Blob(buffers, {type: 'application/binary'});\n",
              "      const a = document.createElement('a');\n",
              "      a.href = window.URL.createObjectURL(blob);\n",
              "      a.download = filename;\n",
              "      div.appendChild(a);\n",
              "      a.click();\n",
              "      div.remove();\n",
              "    }\n",
              "  "
            ],
            "text/plain": [
              "<IPython.core.display.Javascript object>"
            ]
          },
          "metadata": {
            "tags": []
          }
        },
        {
          "output_type": "display_data",
          "data": {
            "application/javascript": [
              "download(\"download_d2b21836-6950-4abf-8768-ad72a1d00701\", \"scratch.pt\", 46846974)"
            ],
            "text/plain": [
              "<IPython.core.display.Javascript object>"
            ]
          },
          "metadata": {
            "tags": []
          }
        }
      ]
    }
  ]
}