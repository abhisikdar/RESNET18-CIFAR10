{
  "nbformat": 4,
  "nbformat_minor": 0,
  "metadata": {
    "colab": {
      "name": "ELL793Assng3bonly2FC.ipynb",
      "provenance": [],
      "collapsed_sections": []
    },
    "kernelspec": {
      "name": "python3",
      "display_name": "Python 3"
    },
    "accelerator": "GPU",
    "widgets": {
      "application/vnd.jupyter.widget-state+json": {
        "0bafab82d2f446eb89708412bb763963": {
          "model_module": "@jupyter-widgets/controls",
          "model_name": "HBoxModel",
          "state": {
            "_view_name": "HBoxView",
            "_dom_classes": [],
            "_model_name": "HBoxModel",
            "_view_module": "@jupyter-widgets/controls",
            "_model_module_version": "1.5.0",
            "_view_count": null,
            "_view_module_version": "1.5.0",
            "box_style": "",
            "layout": "IPY_MODEL_3bc296b6615f4dce915cddaf863c24e2",
            "_model_module": "@jupyter-widgets/controls",
            "children": [
              "IPY_MODEL_d19567a10c894fa9b34ba572190fd8a5",
              "IPY_MODEL_bee1f830a6cc42fa878920044aec021f"
            ]
          }
        },
        "3bc296b6615f4dce915cddaf863c24e2": {
          "model_module": "@jupyter-widgets/base",
          "model_name": "LayoutModel",
          "state": {
            "_view_name": "LayoutView",
            "grid_template_rows": null,
            "right": null,
            "justify_content": null,
            "_view_module": "@jupyter-widgets/base",
            "overflow": null,
            "_model_module_version": "1.2.0",
            "_view_count": null,
            "flex_flow": null,
            "width": null,
            "min_width": null,
            "border": null,
            "align_items": null,
            "bottom": null,
            "_model_module": "@jupyter-widgets/base",
            "top": null,
            "grid_column": null,
            "overflow_y": null,
            "overflow_x": null,
            "grid_auto_flow": null,
            "grid_area": null,
            "grid_template_columns": null,
            "flex": null,
            "_model_name": "LayoutModel",
            "justify_items": null,
            "grid_row": null,
            "max_height": null,
            "align_content": null,
            "visibility": null,
            "align_self": null,
            "height": null,
            "min_height": null,
            "padding": null,
            "grid_auto_rows": null,
            "grid_gap": null,
            "max_width": null,
            "order": null,
            "_view_module_version": "1.2.0",
            "grid_template_areas": null,
            "object_position": null,
            "object_fit": null,
            "grid_auto_columns": null,
            "margin": null,
            "display": null,
            "left": null
          }
        },
        "d19567a10c894fa9b34ba572190fd8a5": {
          "model_module": "@jupyter-widgets/controls",
          "model_name": "FloatProgressModel",
          "state": {
            "_view_name": "ProgressView",
            "style": "IPY_MODEL_e919eb684cc44a35bbd20112a884e74a",
            "_dom_classes": [],
            "description": "",
            "_model_name": "FloatProgressModel",
            "bar_style": "success",
            "max": 1,
            "_view_module": "@jupyter-widgets/controls",
            "_model_module_version": "1.5.0",
            "value": 1,
            "_view_count": null,
            "_view_module_version": "1.5.0",
            "orientation": "horizontal",
            "min": 0,
            "description_tooltip": null,
            "_model_module": "@jupyter-widgets/controls",
            "layout": "IPY_MODEL_6753e7d373d2459284a0536b42a50d0c"
          }
        },
        "bee1f830a6cc42fa878920044aec021f": {
          "model_module": "@jupyter-widgets/controls",
          "model_name": "HTMLModel",
          "state": {
            "_view_name": "HTMLView",
            "style": "IPY_MODEL_7b76032b84414047a5ce053706595aab",
            "_dom_classes": [],
            "description": "",
            "_model_name": "HTMLModel",
            "placeholder": "​",
            "_view_module": "@jupyter-widgets/controls",
            "_model_module_version": "1.5.0",
            "value": " 170500096/? [00:08&lt;00:00, 21208045.67it/s]",
            "_view_count": null,
            "_view_module_version": "1.5.0",
            "description_tooltip": null,
            "_model_module": "@jupyter-widgets/controls",
            "layout": "IPY_MODEL_e82cd5b488d6478a9ff8b02afccb3600"
          }
        },
        "e919eb684cc44a35bbd20112a884e74a": {
          "model_module": "@jupyter-widgets/controls",
          "model_name": "ProgressStyleModel",
          "state": {
            "_view_name": "StyleView",
            "_model_name": "ProgressStyleModel",
            "description_width": "initial",
            "_view_module": "@jupyter-widgets/base",
            "_model_module_version": "1.5.0",
            "_view_count": null,
            "_view_module_version": "1.2.0",
            "bar_color": null,
            "_model_module": "@jupyter-widgets/controls"
          }
        },
        "6753e7d373d2459284a0536b42a50d0c": {
          "model_module": "@jupyter-widgets/base",
          "model_name": "LayoutModel",
          "state": {
            "_view_name": "LayoutView",
            "grid_template_rows": null,
            "right": null,
            "justify_content": null,
            "_view_module": "@jupyter-widgets/base",
            "overflow": null,
            "_model_module_version": "1.2.0",
            "_view_count": null,
            "flex_flow": null,
            "width": null,
            "min_width": null,
            "border": null,
            "align_items": null,
            "bottom": null,
            "_model_module": "@jupyter-widgets/base",
            "top": null,
            "grid_column": null,
            "overflow_y": null,
            "overflow_x": null,
            "grid_auto_flow": null,
            "grid_area": null,
            "grid_template_columns": null,
            "flex": null,
            "_model_name": "LayoutModel",
            "justify_items": null,
            "grid_row": null,
            "max_height": null,
            "align_content": null,
            "visibility": null,
            "align_self": null,
            "height": null,
            "min_height": null,
            "padding": null,
            "grid_auto_rows": null,
            "grid_gap": null,
            "max_width": null,
            "order": null,
            "_view_module_version": "1.2.0",
            "grid_template_areas": null,
            "object_position": null,
            "object_fit": null,
            "grid_auto_columns": null,
            "margin": null,
            "display": null,
            "left": null
          }
        },
        "7b76032b84414047a5ce053706595aab": {
          "model_module": "@jupyter-widgets/controls",
          "model_name": "DescriptionStyleModel",
          "state": {
            "_view_name": "StyleView",
            "_model_name": "DescriptionStyleModel",
            "description_width": "",
            "_view_module": "@jupyter-widgets/base",
            "_model_module_version": "1.5.0",
            "_view_count": null,
            "_view_module_version": "1.2.0",
            "_model_module": "@jupyter-widgets/controls"
          }
        },
        "e82cd5b488d6478a9ff8b02afccb3600": {
          "model_module": "@jupyter-widgets/base",
          "model_name": "LayoutModel",
          "state": {
            "_view_name": "LayoutView",
            "grid_template_rows": null,
            "right": null,
            "justify_content": null,
            "_view_module": "@jupyter-widgets/base",
            "overflow": null,
            "_model_module_version": "1.2.0",
            "_view_count": null,
            "flex_flow": null,
            "width": null,
            "min_width": null,
            "border": null,
            "align_items": null,
            "bottom": null,
            "_model_module": "@jupyter-widgets/base",
            "top": null,
            "grid_column": null,
            "overflow_y": null,
            "overflow_x": null,
            "grid_auto_flow": null,
            "grid_area": null,
            "grid_template_columns": null,
            "flex": null,
            "_model_name": "LayoutModel",
            "justify_items": null,
            "grid_row": null,
            "max_height": null,
            "align_content": null,
            "visibility": null,
            "align_self": null,
            "height": null,
            "min_height": null,
            "padding": null,
            "grid_auto_rows": null,
            "grid_gap": null,
            "max_width": null,
            "order": null,
            "_view_module_version": "1.2.0",
            "grid_template_areas": null,
            "object_position": null,
            "object_fit": null,
            "grid_auto_columns": null,
            "margin": null,
            "display": null,
            "left": null
          }
        },
        "d860492423da4f529482c0f482040f39": {
          "model_module": "@jupyter-widgets/controls",
          "model_name": "HBoxModel",
          "state": {
            "_view_name": "HBoxView",
            "_dom_classes": [],
            "_model_name": "HBoxModel",
            "_view_module": "@jupyter-widgets/controls",
            "_model_module_version": "1.5.0",
            "_view_count": null,
            "_view_module_version": "1.5.0",
            "box_style": "",
            "layout": "IPY_MODEL_86afaff078c64085b25e72feb9bcc587",
            "_model_module": "@jupyter-widgets/controls",
            "children": [
              "IPY_MODEL_9900a41ef96545d2b75fd5df8e3c880f",
              "IPY_MODEL_24b47edad3ae4710b2a9333fbe6c5b22"
            ]
          }
        },
        "86afaff078c64085b25e72feb9bcc587": {
          "model_module": "@jupyter-widgets/base",
          "model_name": "LayoutModel",
          "state": {
            "_view_name": "LayoutView",
            "grid_template_rows": null,
            "right": null,
            "justify_content": null,
            "_view_module": "@jupyter-widgets/base",
            "overflow": null,
            "_model_module_version": "1.2.0",
            "_view_count": null,
            "flex_flow": null,
            "width": null,
            "min_width": null,
            "border": null,
            "align_items": null,
            "bottom": null,
            "_model_module": "@jupyter-widgets/base",
            "top": null,
            "grid_column": null,
            "overflow_y": null,
            "overflow_x": null,
            "grid_auto_flow": null,
            "grid_area": null,
            "grid_template_columns": null,
            "flex": null,
            "_model_name": "LayoutModel",
            "justify_items": null,
            "grid_row": null,
            "max_height": null,
            "align_content": null,
            "visibility": null,
            "align_self": null,
            "height": null,
            "min_height": null,
            "padding": null,
            "grid_auto_rows": null,
            "grid_gap": null,
            "max_width": null,
            "order": null,
            "_view_module_version": "1.2.0",
            "grid_template_areas": null,
            "object_position": null,
            "object_fit": null,
            "grid_auto_columns": null,
            "margin": null,
            "display": null,
            "left": null
          }
        },
        "9900a41ef96545d2b75fd5df8e3c880f": {
          "model_module": "@jupyter-widgets/controls",
          "model_name": "FloatProgressModel",
          "state": {
            "_view_name": "ProgressView",
            "style": "IPY_MODEL_265eef699a174948861d72fac3d087f2",
            "_dom_classes": [],
            "description": "100%",
            "_model_name": "FloatProgressModel",
            "bar_style": "success",
            "max": 46827520,
            "_view_module": "@jupyter-widgets/controls",
            "_model_module_version": "1.5.0",
            "value": 46827520,
            "_view_count": null,
            "_view_module_version": "1.5.0",
            "orientation": "horizontal",
            "min": 0,
            "description_tooltip": null,
            "_model_module": "@jupyter-widgets/controls",
            "layout": "IPY_MODEL_9dd1c41274464e1aad9d8dc004148961"
          }
        },
        "24b47edad3ae4710b2a9333fbe6c5b22": {
          "model_module": "@jupyter-widgets/controls",
          "model_name": "HTMLModel",
          "state": {
            "_view_name": "HTMLView",
            "style": "IPY_MODEL_67ea0384d62442eaaa77ae1039d3ded9",
            "_dom_classes": [],
            "description": "",
            "_model_name": "HTMLModel",
            "placeholder": "​",
            "_view_module": "@jupyter-widgets/controls",
            "_model_module_version": "1.5.0",
            "value": " 44.7M/44.7M [3:51:42&lt;00:00, 3.37kB/s]",
            "_view_count": null,
            "_view_module_version": "1.5.0",
            "description_tooltip": null,
            "_model_module": "@jupyter-widgets/controls",
            "layout": "IPY_MODEL_b78980d2e5f94a8eb5dc9006b906d8e4"
          }
        },
        "265eef699a174948861d72fac3d087f2": {
          "model_module": "@jupyter-widgets/controls",
          "model_name": "ProgressStyleModel",
          "state": {
            "_view_name": "StyleView",
            "_model_name": "ProgressStyleModel",
            "description_width": "initial",
            "_view_module": "@jupyter-widgets/base",
            "_model_module_version": "1.5.0",
            "_view_count": null,
            "_view_module_version": "1.2.0",
            "bar_color": null,
            "_model_module": "@jupyter-widgets/controls"
          }
        },
        "9dd1c41274464e1aad9d8dc004148961": {
          "model_module": "@jupyter-widgets/base",
          "model_name": "LayoutModel",
          "state": {
            "_view_name": "LayoutView",
            "grid_template_rows": null,
            "right": null,
            "justify_content": null,
            "_view_module": "@jupyter-widgets/base",
            "overflow": null,
            "_model_module_version": "1.2.0",
            "_view_count": null,
            "flex_flow": null,
            "width": null,
            "min_width": null,
            "border": null,
            "align_items": null,
            "bottom": null,
            "_model_module": "@jupyter-widgets/base",
            "top": null,
            "grid_column": null,
            "overflow_y": null,
            "overflow_x": null,
            "grid_auto_flow": null,
            "grid_area": null,
            "grid_template_columns": null,
            "flex": null,
            "_model_name": "LayoutModel",
            "justify_items": null,
            "grid_row": null,
            "max_height": null,
            "align_content": null,
            "visibility": null,
            "align_self": null,
            "height": null,
            "min_height": null,
            "padding": null,
            "grid_auto_rows": null,
            "grid_gap": null,
            "max_width": null,
            "order": null,
            "_view_module_version": "1.2.0",
            "grid_template_areas": null,
            "object_position": null,
            "object_fit": null,
            "grid_auto_columns": null,
            "margin": null,
            "display": null,
            "left": null
          }
        },
        "67ea0384d62442eaaa77ae1039d3ded9": {
          "model_module": "@jupyter-widgets/controls",
          "model_name": "DescriptionStyleModel",
          "state": {
            "_view_name": "StyleView",
            "_model_name": "DescriptionStyleModel",
            "description_width": "",
            "_view_module": "@jupyter-widgets/base",
            "_model_module_version": "1.5.0",
            "_view_count": null,
            "_view_module_version": "1.2.0",
            "_model_module": "@jupyter-widgets/controls"
          }
        },
        "b78980d2e5f94a8eb5dc9006b906d8e4": {
          "model_module": "@jupyter-widgets/base",
          "model_name": "LayoutModel",
          "state": {
            "_view_name": "LayoutView",
            "grid_template_rows": null,
            "right": null,
            "justify_content": null,
            "_view_module": "@jupyter-widgets/base",
            "overflow": null,
            "_model_module_version": "1.2.0",
            "_view_count": null,
            "flex_flow": null,
            "width": null,
            "min_width": null,
            "border": null,
            "align_items": null,
            "bottom": null,
            "_model_module": "@jupyter-widgets/base",
            "top": null,
            "grid_column": null,
            "overflow_y": null,
            "overflow_x": null,
            "grid_auto_flow": null,
            "grid_area": null,
            "grid_template_columns": null,
            "flex": null,
            "_model_name": "LayoutModel",
            "justify_items": null,
            "grid_row": null,
            "max_height": null,
            "align_content": null,
            "visibility": null,
            "align_self": null,
            "height": null,
            "min_height": null,
            "padding": null,
            "grid_auto_rows": null,
            "grid_gap": null,
            "max_width": null,
            "order": null,
            "_view_module_version": "1.2.0",
            "grid_template_areas": null,
            "object_position": null,
            "object_fit": null,
            "grid_auto_columns": null,
            "margin": null,
            "display": null,
            "left": null
          }
        }
      }
    }
  },
  "cells": [
    {
      "cell_type": "markdown",
      "metadata": {
        "id": "d9MX4R3gKHSw"
      },
      "source": [
        "# ELL793 Assignment 3 Part (b)\n",
        "**ResNet-18: Pretrained+ Finetuning Last 2 FCs** <br>\n",
        "Abhinava Sikdar 2017MT01724 <br>\n",
        "Yashank Singh 2017MT10756"
      ]
    },
    {
      "cell_type": "markdown",
      "metadata": {
        "id": "zpE2TvBUa3Zp"
      },
      "source": [
        "Some website:\n",
        "https://github.com/kuangliu/pytorch-cifar/blob/master/main.py <br>\n",
        "https://medium.com/@wwwbbb8510/lessons-learned-from-reproducing-resnet-and-densenet-on-cifar-10-dataset-6e25b03328da "
      ]
    },
    {
      "cell_type": "code",
      "metadata": {
        "colab": {
          "base_uri": "https://localhost:8080/"
        },
        "id": "WWo3ww4TJ-_I",
        "outputId": "2418ee75-5cb4-4e01-a48d-206ba412ec93"
      },
      "source": [
        "import torch\n",
        "from torchvision import datasets\n",
        "from torchvision import transforms\n",
        "import matplotlib.pyplot as plt\n",
        "import torch.nn as nn\n",
        "import torch.nn.functional as F\n",
        "import torchvision.models as models\n",
        "\n",
        "print('Is CUDA available', torch.cuda.is_available())\n",
        "print('Torch', torch.__version__, 'CUDA', torch.version.cuda)\n",
        "print('Device:', torch.device('cuda:0'))"
      ],
      "execution_count": null,
      "outputs": [
        {
          "output_type": "stream",
          "text": [
            "Is CUDA available True\n",
            "Torch 1.7.0+cu101 CUDA 10.1\n",
            "Device: cuda:0\n"
          ],
          "name": "stdout"
        }
      ]
    },
    {
      "cell_type": "code",
      "metadata": {
        "colab": {
          "base_uri": "https://localhost:8080/",
          "height": 528
        },
        "id": "EMwxXk4-_Ykd",
        "outputId": "3e5084b8-a178-4cf2-fc63-ac01b2107411"
      },
      "source": [
        "from google.colab import drive\n",
        "drive.mount('/content/drive')"
      ],
      "execution_count": null,
      "outputs": [
        {
          "output_type": "error",
          "ename": "KeyboardInterrupt",
          "evalue": "ignored",
          "traceback": [
            "\u001b[0;31m---------------------------------------------------------------------------\u001b[0m",
            "\u001b[0;31mKeyboardInterrupt\u001b[0m                         Traceback (most recent call last)",
            "\u001b[0;32m/usr/local/lib/python3.6/dist-packages/ipykernel/kernelbase.py\u001b[0m in \u001b[0;36m_input_request\u001b[0;34m(self, prompt, ident, parent, password)\u001b[0m\n\u001b[1;32m    728\u001b[0m             \u001b[0;32mtry\u001b[0m\u001b[0;34m:\u001b[0m\u001b[0;34m\u001b[0m\u001b[0;34m\u001b[0m\u001b[0m\n\u001b[0;32m--> 729\u001b[0;31m                 \u001b[0mident\u001b[0m\u001b[0;34m,\u001b[0m \u001b[0mreply\u001b[0m \u001b[0;34m=\u001b[0m \u001b[0mself\u001b[0m\u001b[0;34m.\u001b[0m\u001b[0msession\u001b[0m\u001b[0;34m.\u001b[0m\u001b[0mrecv\u001b[0m\u001b[0;34m(\u001b[0m\u001b[0mself\u001b[0m\u001b[0;34m.\u001b[0m\u001b[0mstdin_socket\u001b[0m\u001b[0;34m,\u001b[0m \u001b[0;36m0\u001b[0m\u001b[0;34m)\u001b[0m\u001b[0;34m\u001b[0m\u001b[0;34m\u001b[0m\u001b[0m\n\u001b[0m\u001b[1;32m    730\u001b[0m             \u001b[0;32mexcept\u001b[0m \u001b[0mException\u001b[0m\u001b[0;34m:\u001b[0m\u001b[0;34m\u001b[0m\u001b[0;34m\u001b[0m\u001b[0m\n",
            "\u001b[0;32m/usr/local/lib/python3.6/dist-packages/jupyter_client/session.py\u001b[0m in \u001b[0;36mrecv\u001b[0;34m(self, socket, mode, content, copy)\u001b[0m\n\u001b[1;32m    802\u001b[0m         \u001b[0;32mtry\u001b[0m\u001b[0;34m:\u001b[0m\u001b[0;34m\u001b[0m\u001b[0;34m\u001b[0m\u001b[0m\n\u001b[0;32m--> 803\u001b[0;31m             \u001b[0mmsg_list\u001b[0m \u001b[0;34m=\u001b[0m \u001b[0msocket\u001b[0m\u001b[0;34m.\u001b[0m\u001b[0mrecv_multipart\u001b[0m\u001b[0;34m(\u001b[0m\u001b[0mmode\u001b[0m\u001b[0;34m,\u001b[0m \u001b[0mcopy\u001b[0m\u001b[0;34m=\u001b[0m\u001b[0mcopy\u001b[0m\u001b[0;34m)\u001b[0m\u001b[0;34m\u001b[0m\u001b[0;34m\u001b[0m\u001b[0m\n\u001b[0m\u001b[1;32m    804\u001b[0m         \u001b[0;32mexcept\u001b[0m \u001b[0mzmq\u001b[0m\u001b[0;34m.\u001b[0m\u001b[0mZMQError\u001b[0m \u001b[0;32mas\u001b[0m \u001b[0me\u001b[0m\u001b[0;34m:\u001b[0m\u001b[0;34m\u001b[0m\u001b[0;34m\u001b[0m\u001b[0m\n",
            "\u001b[0;32m/usr/local/lib/python3.6/dist-packages/zmq/sugar/socket.py\u001b[0m in \u001b[0;36mrecv_multipart\u001b[0;34m(self, flags, copy, track)\u001b[0m\n\u001b[1;32m    565\u001b[0m         \"\"\"\n\u001b[0;32m--> 566\u001b[0;31m         \u001b[0mparts\u001b[0m \u001b[0;34m=\u001b[0m \u001b[0;34m[\u001b[0m\u001b[0mself\u001b[0m\u001b[0;34m.\u001b[0m\u001b[0mrecv\u001b[0m\u001b[0;34m(\u001b[0m\u001b[0mflags\u001b[0m\u001b[0;34m,\u001b[0m \u001b[0mcopy\u001b[0m\u001b[0;34m=\u001b[0m\u001b[0mcopy\u001b[0m\u001b[0;34m,\u001b[0m \u001b[0mtrack\u001b[0m\u001b[0;34m=\u001b[0m\u001b[0mtrack\u001b[0m\u001b[0;34m)\u001b[0m\u001b[0;34m]\u001b[0m\u001b[0;34m\u001b[0m\u001b[0;34m\u001b[0m\u001b[0m\n\u001b[0m\u001b[1;32m    567\u001b[0m         \u001b[0;31m# have first part already, only loop while more to receive\u001b[0m\u001b[0;34m\u001b[0m\u001b[0;34m\u001b[0m\u001b[0;34m\u001b[0m\u001b[0m\n",
            "\u001b[0;32mzmq/backend/cython/socket.pyx\u001b[0m in \u001b[0;36mzmq.backend.cython.socket.Socket.recv\u001b[0;34m()\u001b[0m\n",
            "\u001b[0;32mzmq/backend/cython/socket.pyx\u001b[0m in \u001b[0;36mzmq.backend.cython.socket.Socket.recv\u001b[0;34m()\u001b[0m\n",
            "\u001b[0;32mzmq/backend/cython/socket.pyx\u001b[0m in \u001b[0;36mzmq.backend.cython.socket._recv_copy\u001b[0;34m()\u001b[0m\n",
            "\u001b[0;32m/usr/local/lib/python3.6/dist-packages/zmq/backend/cython/checkrc.pxd\u001b[0m in \u001b[0;36mzmq.backend.cython.checkrc._check_rc\u001b[0;34m()\u001b[0m\n",
            "\u001b[0;31mKeyboardInterrupt\u001b[0m: ",
            "\nDuring handling of the above exception, another exception occurred:\n",
            "\u001b[0;31mKeyboardInterrupt\u001b[0m                         Traceback (most recent call last)",
            "\u001b[0;32m<ipython-input-2-d5df0069828e>\u001b[0m in \u001b[0;36m<module>\u001b[0;34m()\u001b[0m\n\u001b[1;32m      1\u001b[0m \u001b[0;32mfrom\u001b[0m \u001b[0mgoogle\u001b[0m\u001b[0;34m.\u001b[0m\u001b[0mcolab\u001b[0m \u001b[0;32mimport\u001b[0m \u001b[0mdrive\u001b[0m\u001b[0;34m\u001b[0m\u001b[0;34m\u001b[0m\u001b[0m\n\u001b[0;32m----> 2\u001b[0;31m \u001b[0mdrive\u001b[0m\u001b[0;34m.\u001b[0m\u001b[0mmount\u001b[0m\u001b[0;34m(\u001b[0m\u001b[0;34m'/content/drive'\u001b[0m\u001b[0;34m)\u001b[0m\u001b[0;34m\u001b[0m\u001b[0;34m\u001b[0m\u001b[0m\n\u001b[0m",
            "\u001b[0;32m/usr/local/lib/python3.6/dist-packages/google/colab/drive.py\u001b[0m in \u001b[0;36mmount\u001b[0;34m(mountpoint, force_remount, timeout_ms, use_metadata_server)\u001b[0m\n\u001b[1;32m    249\u001b[0m       \u001b[0;32mwith\u001b[0m \u001b[0m_output\u001b[0m\u001b[0;34m.\u001b[0m\u001b[0muse_tags\u001b[0m\u001b[0;34m(\u001b[0m\u001b[0;34m'dfs-auth-dance'\u001b[0m\u001b[0;34m)\u001b[0m\u001b[0;34m:\u001b[0m\u001b[0;34m\u001b[0m\u001b[0;34m\u001b[0m\u001b[0m\n\u001b[1;32m    250\u001b[0m         \u001b[0;32mwith\u001b[0m \u001b[0mopen\u001b[0m\u001b[0;34m(\u001b[0m\u001b[0mfifo\u001b[0m\u001b[0;34m,\u001b[0m \u001b[0;34m'w'\u001b[0m\u001b[0;34m)\u001b[0m \u001b[0;32mas\u001b[0m \u001b[0mfifo_file\u001b[0m\u001b[0;34m:\u001b[0m\u001b[0;34m\u001b[0m\u001b[0;34m\u001b[0m\u001b[0m\n\u001b[0;32m--> 251\u001b[0;31m           \u001b[0mfifo_file\u001b[0m\u001b[0;34m.\u001b[0m\u001b[0mwrite\u001b[0m\u001b[0;34m(\u001b[0m\u001b[0mget_code\u001b[0m\u001b[0;34m(\u001b[0m\u001b[0mauth_prompt\u001b[0m\u001b[0;34m)\u001b[0m \u001b[0;34m+\u001b[0m \u001b[0;34m'\\n'\u001b[0m\u001b[0;34m)\u001b[0m\u001b[0;34m\u001b[0m\u001b[0;34m\u001b[0m\u001b[0m\n\u001b[0m\u001b[1;32m    252\u001b[0m       \u001b[0mwrote_to_fifo\u001b[0m \u001b[0;34m=\u001b[0m \u001b[0;32mTrue\u001b[0m\u001b[0;34m\u001b[0m\u001b[0;34m\u001b[0m\u001b[0m\n\u001b[1;32m    253\u001b[0m     \u001b[0;32melif\u001b[0m \u001b[0mcase\u001b[0m \u001b[0;34m==\u001b[0m \u001b[0;36m5\u001b[0m\u001b[0;34m:\u001b[0m\u001b[0;34m\u001b[0m\u001b[0;34m\u001b[0m\u001b[0m\n",
            "\u001b[0;32m/usr/local/lib/python3.6/dist-packages/ipykernel/kernelbase.py\u001b[0m in \u001b[0;36mraw_input\u001b[0;34m(self, prompt)\u001b[0m\n\u001b[1;32m    702\u001b[0m             \u001b[0mself\u001b[0m\u001b[0;34m.\u001b[0m\u001b[0m_parent_ident\u001b[0m\u001b[0;34m,\u001b[0m\u001b[0;34m\u001b[0m\u001b[0;34m\u001b[0m\u001b[0m\n\u001b[1;32m    703\u001b[0m             \u001b[0mself\u001b[0m\u001b[0;34m.\u001b[0m\u001b[0m_parent_header\u001b[0m\u001b[0;34m,\u001b[0m\u001b[0;34m\u001b[0m\u001b[0;34m\u001b[0m\u001b[0m\n\u001b[0;32m--> 704\u001b[0;31m             \u001b[0mpassword\u001b[0m\u001b[0;34m=\u001b[0m\u001b[0;32mFalse\u001b[0m\u001b[0;34m,\u001b[0m\u001b[0;34m\u001b[0m\u001b[0;34m\u001b[0m\u001b[0m\n\u001b[0m\u001b[1;32m    705\u001b[0m         )\n\u001b[1;32m    706\u001b[0m \u001b[0;34m\u001b[0m\u001b[0m\n",
            "\u001b[0;32m/usr/local/lib/python3.6/dist-packages/ipykernel/kernelbase.py\u001b[0m in \u001b[0;36m_input_request\u001b[0;34m(self, prompt, ident, parent, password)\u001b[0m\n\u001b[1;32m    732\u001b[0m             \u001b[0;32mexcept\u001b[0m \u001b[0mKeyboardInterrupt\u001b[0m\u001b[0;34m:\u001b[0m\u001b[0;34m\u001b[0m\u001b[0;34m\u001b[0m\u001b[0m\n\u001b[1;32m    733\u001b[0m                 \u001b[0;31m# re-raise KeyboardInterrupt, to truncate traceback\u001b[0m\u001b[0;34m\u001b[0m\u001b[0;34m\u001b[0m\u001b[0;34m\u001b[0m\u001b[0m\n\u001b[0;32m--> 734\u001b[0;31m                 \u001b[0;32mraise\u001b[0m \u001b[0mKeyboardInterrupt\u001b[0m\u001b[0;34m\u001b[0m\u001b[0;34m\u001b[0m\u001b[0m\n\u001b[0m\u001b[1;32m    735\u001b[0m             \u001b[0;32melse\u001b[0m\u001b[0;34m:\u001b[0m\u001b[0;34m\u001b[0m\u001b[0;34m\u001b[0m\u001b[0m\n\u001b[1;32m    736\u001b[0m                 \u001b[0;32mbreak\u001b[0m\u001b[0;34m\u001b[0m\u001b[0;34m\u001b[0m\u001b[0m\n",
            "\u001b[0;31mKeyboardInterrupt\u001b[0m: "
          ]
        }
      ]
    },
    {
      "cell_type": "markdown",
      "metadata": {
        "id": "9HWpbDsaKiVP"
      },
      "source": [
        "## Handling Data"
      ]
    },
    {
      "cell_type": "code",
      "metadata": {
        "colab": {
          "base_uri": "https://localhost:8080/",
          "height": 100,
          "referenced_widgets": [
            "0bafab82d2f446eb89708412bb763963",
            "3bc296b6615f4dce915cddaf863c24e2",
            "d19567a10c894fa9b34ba572190fd8a5",
            "bee1f830a6cc42fa878920044aec021f",
            "e919eb684cc44a35bbd20112a884e74a",
            "6753e7d373d2459284a0536b42a50d0c",
            "7b76032b84414047a5ce053706595aab",
            "e82cd5b488d6478a9ff8b02afccb3600"
          ]
        },
        "id": "GiVB1faQKauf",
        "outputId": "3a537564-b7a6-41bf-fa01-073bc7483be3"
      },
      "source": [
        "data_path='../data/'\n",
        "cifar=datasets.CIFAR10(data_path, train= True, download=True, transform=transforms.ToTensor())\n",
        "cifar_val=datasets.CIFAR10(data_path, train=False, download= True, transform=transforms.ToTensor())"
      ],
      "execution_count": null,
      "outputs": [
        {
          "output_type": "stream",
          "text": [
            "Downloading https://www.cs.toronto.edu/~kriz/cifar-10-python.tar.gz to ../data/cifar-10-python.tar.gz\n"
          ],
          "name": "stdout"
        },
        {
          "output_type": "display_data",
          "data": {
            "application/vnd.jupyter.widget-view+json": {
              "model_id": "0bafab82d2f446eb89708412bb763963",
              "version_minor": 0,
              "version_major": 2
            },
            "text/plain": [
              "HBox(children=(FloatProgress(value=1.0, bar_style='info', max=1.0), HTML(value='')))"
            ]
          },
          "metadata": {
            "tags": []
          }
        },
        {
          "output_type": "stream",
          "text": [
            "Extracting ../data/cifar-10-python.tar.gz to ../data/\n",
            "Files already downloaded and verified\n"
          ],
          "name": "stdout"
        }
      ]
    },
    {
      "cell_type": "code",
      "metadata": {
        "colab": {
          "base_uri": "https://localhost:8080/"
        },
        "id": "ZmJ8lSu6KbSD",
        "outputId": "8c16cade-0a58-4d93-aaa9-6cf96b5eab50"
      },
      "source": [
        "cifar_stack = torch.stack([img for img, _ in cifar], dim=3)\n",
        "print('Shape of the CIFAR stack is',cifar_stack.shape)\n",
        "mean= cifar_stack.view(3,-1).mean(dim=1)\n",
        "std= cifar_stack.view(3,-1).std(dim=1)\n",
        "print('Mean of training data is', mean)\n",
        "print('Standard deviation of training data is', std)"
      ],
      "execution_count": null,
      "outputs": [
        {
          "output_type": "stream",
          "text": [
            "\n",
            "Shape of the CIFAR stack is torch.Size([3, 32, 32, 50000])\n",
            "Mean of training data is tensor([0.4914, 0.4822, 0.4465])\n",
            "Standard deviation of training data is tensor([0.2470, 0.2435, 0.2616])\n"
          ],
          "name": "stdout"
        }
      ]
    },
    {
      "cell_type": "code",
      "metadata": {
        "id": "Ai-FQvHoKbd9"
      },
      "source": [
        "cifar_transformed = datasets.CIFAR10(data_path,train=True,download=False, transform=transforms.Compose([\n",
        "                                                                                                        transforms.Resize(256),transforms.CenterCrop(224),\n",
        "                                                                                                        transforms.ToTensor(),transforms.Normalize(mean,std)\n",
        "]))\n",
        "cifar_val_transformed = datasets.CIFAR10(data_path,train=False,download=False, transform=transforms.Compose([\n",
        "                                                                                                              transforms.Resize(256),transforms.CenterCrop(224),\n",
        "                                                                                                        transforms.ToTensor(),transforms.Normalize(mean,std)\n",
        "]))"
      ],
      "execution_count": null,
      "outputs": []
    },
    {
      "cell_type": "code",
      "metadata": {
        "colab": {
          "base_uri": "https://localhost:8080/",
          "height": 286
        },
        "id": "F1jGGW7tpfxy",
        "outputId": "5984ac53-e4a8-4660-82cc-983958a86f7b"
      },
      "source": [
        "img, label = cifar_transformed[28] \n",
        "plt.imshow(img.permute(1, 2, 0))\n",
        "plt.show()"
      ],
      "execution_count": null,
      "outputs": [
        {
          "output_type": "stream",
          "text": [
            "Clipping input data to the valid range for imshow with RGB data ([0..1] for floats or [0..255] for integers).\n"
          ],
          "name": "stderr"
        },
        {
          "output_type": "display_data",
          "data": {
            "image/png": "[encoded data removed]",
            "text/plain": [
              "<Figure size 432x288 with 1 Axes>"
            ]
          },
          "metadata": {
            "tags": [],
            "needs_background": "light"
          }
        }
      ]
    },
    {
      "cell_type": "markdown",
      "metadata": {
        "id": "aOfBOWRUK30Y"
      },
      "source": [
        "## Hparams and Loaders"
      ]
    },
    {
      "cell_type": "code",
      "metadata": {
        "id": "jeyCE7jpKb1Z"
      },
      "source": [
        "batch_size=512\n",
        "val_batch_size=500\n",
        "num_epochs=120\n",
        "\n",
        "dev=torch.device(\"cuda:0\" if torch.cuda.is_available() else \"cpu\")"
      ],
      "execution_count": null,
      "outputs": []
    },
    {
      "cell_type": "code",
      "metadata": {
        "id": "y2wU-yOoKcBT"
      },
      "source": [
        "train_loader=torch.utils.data.DataLoader(cifar_transformed,batch_size=batch_size,shuffle=True, num_workers=4)\n",
        "train_acc_loader=torch.utils.data.DataLoader(cifar_transformed,batch_size=500,shuffle=False,num_workers=4)\n",
        "val_loader = torch.utils.data.DataLoader(cifar_val_transformed, batch_size=val_batch_size, shuffle=False,num_workers=4)"
      ],
      "execution_count": null,
      "outputs": []
    },
    {
      "cell_type": "markdown",
      "metadata": {
        "id": "_Ajd4OWpCiYL"
      },
      "source": [
        "# Model with fine tuninig only FC layer"
      ]
    },
    {
      "cell_type": "code",
      "metadata": {
        "id": "fKcWg6DlKcNN",
        "colab": {
          "base_uri": "https://localhost:8080/",
          "height": 83,
          "referenced_widgets": [
            "d860492423da4f529482c0f482040f39",
            "86afaff078c64085b25e72feb9bcc587",
            "9900a41ef96545d2b75fd5df8e3c880f",
            "24b47edad3ae4710b2a9333fbe6c5b22",
            "265eef699a174948861d72fac3d087f2",
            "9dd1c41274464e1aad9d8dc004148961",
            "67ea0384d62442eaaa77ae1039d3ded9",
            "b78980d2e5f94a8eb5dc9006b906d8e4"
          ]
        },
        "outputId": "83f4e138-1aeb-4a71-9784-8aad9db91d26"
      },
      "source": [
        "resnet18 =models.resnet18(pretrained=True, progress=True)\n",
        "#Freezing the conv layers-------------------------------------------------------\n",
        "for param in resnet18.parameters():\n",
        "    param.requires_grad = False\n",
        "#Adding 2 FC layer on top of conv net-------------------------------------------\n",
        "num_ftrs = resnet18.fc.in_features\n",
        "resnet18.fc=nn.Sequential(\n",
        "            nn.Dropout(p=0.3),\n",
        "            nn.Linear(num_ftrs, 256),\n",
        "            nn.ReLU(),\n",
        "            nn.Linear(256, 10)\n",
        "          )\n",
        "resnet18=resnet18.to(dev)\n",
        "loss_func= torch.nn.CrossEntropyLoss()\n",
        "optimizer = torch.optim.SGD(resnet18.parameters(), lr=0.1, momentum=0.9, weight_decay=5e-4)\n",
        "scheduler = torch.optim.lr_scheduler.CosineAnnealingLR(optimizer, T_max=100)"
      ],
      "execution_count": null,
      "outputs": [
        {
          "output_type": "stream",
          "text": [
            "Downloading: \"https://download.pytorch.org/models/resnet18-5c106cde.pth\" to /root/.cache/torch/hub/checkpoints/resnet18-5c106cde.pth\n"
          ],
          "name": "stderr"
        },
        {
          "output_type": "display_data",
          "data": {
            "application/vnd.jupyter.widget-view+json": {
              "model_id": "d860492423da4f529482c0f482040f39",
              "version_minor": 0,
              "version_major": 2
            },
            "text/plain": [
              "HBox(children=(FloatProgress(value=0.0, max=46827520.0), HTML(value='')))"
            ]
          },
          "metadata": {
            "tags": []
          }
        },
        {
          "output_type": "stream",
          "text": [
            "\n"
          ],
          "name": "stdout"
        }
      ]
    },
    {
      "cell_type": "markdown",
      "metadata": {
        "id": "GAIBhvN4Cm5i"
      },
      "source": [
        "## Training"
      ]
    },
    {
      "cell_type": "code",
      "metadata": {
        "id": "MvwosywoKcYj"
      },
      "source": [
        "max_validation = 0\n",
        "max_epoch=0\n",
        "val_acc=[]\n",
        "train_acc=[]\n",
        "epochs=[]"
      ],
      "execution_count": null,
      "outputs": []
    },
    {
      "cell_type": "code",
      "metadata": {
        "colab": {
          "base_uri": "https://localhost:8080/"
        },
        "id": "SZvhE2iDKZO9",
        "outputId": "9c2becc8-b496-490c-8bf8-3f7bc110ac39"
      },
      "source": [
        "for i in range(num_epochs):\n",
        "\n",
        "  for imgs, labels in train_loader:\n",
        "    if dev is not None:\n",
        "      imgs,labels=imgs.to(dev),labels.to(dev)\n",
        "    out= resnet18(imgs)\n",
        "    loss=loss_func(out,labels)\n",
        "    optimizer.zero_grad()\n",
        "    loss.backward()\n",
        "    optimizer.step()\n",
        "  \n",
        "  correct_val = 0\n",
        "  total_val = 0\n",
        "  correct_train_acc=0\n",
        "  total_train_acc=0\n",
        "\n",
        "  with torch.no_grad():\n",
        "    for imgs, labels in val_loader:\n",
        "      if dev is not None:\n",
        "        imgs,labels=imgs.to(dev),labels.to(dev)\n",
        "      outputs = resnet18(imgs) \n",
        "      _, predicted = torch.max(outputs, dim=1) \n",
        "      total_val += labels.shape[0]\n",
        "      correct_val += int((predicted == labels).sum())\n",
        "    \n",
        "    val_acc.append(correct_val/total_val)\n",
        "\n",
        "    for train_acc_imgs,train_acc_labels in train_acc_loader:\n",
        "      if dev is not None:\n",
        "        train_acc_imgs,train_acc_labels=train_acc_imgs.to(dev),train_acc_labels.to(dev)\n",
        "      train_acc_out=resnet18(train_acc_imgs)\n",
        "      _, train_acc_predicted = torch.max(train_acc_out, dim=1)\n",
        "      total_train_acc += train_acc_labels.shape[0]\n",
        "      correct_train_acc += int((train_acc_predicted == train_acc_labels).sum())\n",
        "    if correct_val/total_val > max_validation:\n",
        "      max_validation=correct_val/total_val\n",
        "      max_epoch=i\n",
        "      torch.save(resnet18,'./only2FC.pt' )\n",
        "    \n",
        "    train_acc.append(correct_train_acc/total_train_acc)\n",
        "  epochs.append(i)\n",
        "\n",
        "\n",
        "  if i%1==0:\n",
        "    print(\"Epoch: %d, Loss: %f\" % (i, float(loss)))\n",
        "    print(\"Train Accuracy: \", correct_train_acc / total_train_acc)\n",
        "    print(\"Validation Accuracy: \", correct_val / total_val)\n",
        "  \n",
        "  scheduler.step()\n",
        "  torch.save({\n",
        "            'epoch': num_epochs,\n",
        "            'model_state_dict': resnet18.state_dict(),\n",
        "            'optimizer_state_dict': optimizer.state_dict(),\n",
        "            'loss': float(loss)\n",
        "            }, '/content/drive/MyDrive/ass3Bonly2FC.pt')\n",
        "  torch.save({\n",
        "      'epochs':epochs,\n",
        "      'train_acc':train_acc,\n",
        "      'val_acc':val_acc\n",
        "  },'/content/drive/MyDrive/GraphArrays.pt')\n",
        "\n",
        "print(max_validation)"
      ],
      "execution_count": null,
      "outputs": [
        {
          "output_type": "stream",
          "text": [
            "Epoch: 0, Loss: 0.940791\n",
            "Train Accuracy:  0.69082\n",
            "Validation Accuracy:  0.6752\n",
            "Epoch: 1, Loss: 0.764819\n",
            "Train Accuracy:  0.70622\n",
            "Validation Accuracy:  0.6984\n",
            "Epoch: 2, Loss: 0.880199\n",
            "Train Accuracy:  0.70956\n",
            "Validation Accuracy:  0.7013\n",
            "Epoch: 3, Loss: 0.811677\n",
            "Train Accuracy:  0.71652\n",
            "Validation Accuracy:  0.7032\n",
            "Epoch: 4, Loss: 0.740549\n",
            "Train Accuracy:  0.71964\n",
            "Validation Accuracy:  0.6981\n",
            "Epoch: 5, Loss: 0.761231\n",
            "Train Accuracy:  0.71896\n",
            "Validation Accuracy:  0.7079\n",
            "Epoch: 6, Loss: 0.677755\n",
            "Train Accuracy:  0.73098\n",
            "Validation Accuracy:  0.7189\n",
            "Epoch: 7, Loss: 0.845981\n",
            "Train Accuracy:  0.7303\n",
            "Validation Accuracy:  0.7062\n",
            "Epoch: 8, Loss: 0.770514\n",
            "Train Accuracy:  0.72982\n",
            "Validation Accuracy:  0.7084\n",
            "Epoch: 9, Loss: 0.719733\n",
            "Train Accuracy:  0.74378\n",
            "Validation Accuracy:  0.7242\n",
            "Epoch: 10, Loss: 0.781425\n",
            "Train Accuracy:  0.73594\n",
            "Validation Accuracy:  0.72\n",
            "Epoch: 11, Loss: 0.714089\n",
            "Train Accuracy:  0.73952\n",
            "Validation Accuracy:  0.7182\n",
            "Epoch: 12, Loss: 0.710796\n",
            "Train Accuracy:  0.74872\n",
            "Validation Accuracy:  0.7256\n",
            "Epoch: 13, Loss: 0.752398\n",
            "Train Accuracy:  0.7534\n",
            "Validation Accuracy:  0.7293\n",
            "Epoch: 14, Loss: 0.760739\n",
            "Train Accuracy:  0.7545\n",
            "Validation Accuracy:  0.7302\n",
            "Epoch: 15, Loss: 0.785044\n",
            "Train Accuracy:  0.7447\n",
            "Validation Accuracy:  0.7168\n",
            "Epoch: 16, Loss: 0.746657\n",
            "Train Accuracy:  0.754\n",
            "Validation Accuracy:  0.7265\n",
            "Epoch: 17, Loss: 0.709293\n",
            "Train Accuracy:  0.7548\n",
            "Validation Accuracy:  0.7294\n",
            "Epoch: 18, Loss: 0.759446\n",
            "Train Accuracy:  0.75732\n",
            "Validation Accuracy:  0.7254\n",
            "Epoch: 19, Loss: 0.685796\n",
            "Train Accuracy:  0.75244\n",
            "Validation Accuracy:  0.7217\n",
            "Epoch: 20, Loss: 0.737170\n",
            "Train Accuracy:  0.74268\n",
            "Validation Accuracy:  0.7129\n",
            "Epoch: 21, Loss: 0.692406\n",
            "Train Accuracy:  0.737\n",
            "Validation Accuracy:  0.7017\n",
            "Epoch: 22, Loss: 0.677765\n",
            "Train Accuracy:  0.76472\n",
            "Validation Accuracy:  0.7346\n",
            "Epoch: 23, Loss: 0.741697\n",
            "Train Accuracy:  0.75972\n",
            "Validation Accuracy:  0.7292\n",
            "Epoch: 24, Loss: 0.658474\n",
            "Train Accuracy:  0.75488\n",
            "Validation Accuracy:  0.7295\n",
            "Epoch: 25, Loss: 0.678379\n",
            "Train Accuracy:  0.75854\n",
            "Validation Accuracy:  0.7263\n",
            "Epoch: 26, Loss: 0.774004\n",
            "Train Accuracy:  0.75598\n",
            "Validation Accuracy:  0.7219\n",
            "Epoch: 27, Loss: 0.696839\n",
            "Train Accuracy:  0.75724\n",
            "Validation Accuracy:  0.7272\n",
            "Epoch: 28, Loss: 0.635309\n",
            "Train Accuracy:  0.76352\n",
            "Validation Accuracy:  0.7306\n",
            "Epoch: 29, Loss: 0.791351\n",
            "Train Accuracy:  0.75286\n",
            "Validation Accuracy:  0.7225\n",
            "Epoch: 30, Loss: 0.736963\n",
            "Train Accuracy:  0.77138\n",
            "Validation Accuracy:  0.7353\n",
            "Epoch: 31, Loss: 0.646037\n",
            "Train Accuracy:  0.7728\n",
            "Validation Accuracy:  0.737\n",
            "Epoch: 32, Loss: 0.586264\n",
            "Train Accuracy:  0.7679\n",
            "Validation Accuracy:  0.7305\n",
            "Epoch: 33, Loss: 0.742207\n",
            "Train Accuracy:  0.77222\n",
            "Validation Accuracy:  0.7328\n",
            "Epoch: 34, Loss: 0.686611\n",
            "Train Accuracy:  0.76886\n",
            "Validation Accuracy:  0.7315\n",
            "Epoch: 35, Loss: 0.651556\n",
            "Train Accuracy:  0.77056\n",
            "Validation Accuracy:  0.7375\n",
            "Epoch: 36, Loss: 0.621707\n",
            "Train Accuracy:  0.77434\n",
            "Validation Accuracy:  0.7366\n",
            "Epoch: 37, Loss: 0.683911\n",
            "Train Accuracy:  0.77136\n",
            "Validation Accuracy:  0.7317\n",
            "Epoch: 38, Loss: 0.628920\n",
            "Train Accuracy:  0.76376\n",
            "Validation Accuracy:  0.7255\n",
            "Epoch: 39, Loss: 0.661497\n",
            "Train Accuracy:  0.7794\n",
            "Validation Accuracy:  0.7404\n",
            "Epoch: 40, Loss: 0.770932\n",
            "Train Accuracy:  0.76562\n",
            "Validation Accuracy:  0.7305\n",
            "Epoch: 41, Loss: 0.673465\n",
            "Train Accuracy:  0.77476\n",
            "Validation Accuracy:  0.7323\n",
            "Epoch: 42, Loss: 0.654623\n",
            "Train Accuracy:  0.77576\n",
            "Validation Accuracy:  0.7379\n",
            "Epoch: 43, Loss: 0.606746\n",
            "Train Accuracy:  0.77238\n",
            "Validation Accuracy:  0.7348\n",
            "Epoch: 44, Loss: 0.656896\n",
            "Train Accuracy:  0.77468\n",
            "Validation Accuracy:  0.7328\n",
            "Epoch: 45, Loss: 0.704282\n",
            "Train Accuracy:  0.77496\n",
            "Validation Accuracy:  0.7361\n",
            "Epoch: 46, Loss: 0.597430\n",
            "Train Accuracy:  0.78286\n",
            "Validation Accuracy:  0.7436\n",
            "Epoch: 47, Loss: 0.605641\n",
            "Train Accuracy:  0.7806\n",
            "Validation Accuracy:  0.7395\n",
            "Epoch: 48, Loss: 0.633230\n",
            "Train Accuracy:  0.78208\n",
            "Validation Accuracy:  0.7481\n",
            "Epoch: 49, Loss: 0.565361\n",
            "Train Accuracy:  0.77896\n",
            "Validation Accuracy:  0.7389\n",
            "Epoch: 50, Loss: 0.618330\n",
            "Train Accuracy:  0.78656\n",
            "Validation Accuracy:  0.7395\n",
            "Epoch: 51, Loss: 0.650930\n",
            "Train Accuracy:  0.78808\n",
            "Validation Accuracy:  0.7407\n",
            "Epoch: 52, Loss: 0.702341\n",
            "Train Accuracy:  0.78902\n",
            "Validation Accuracy:  0.7453\n",
            "Epoch: 53, Loss: 0.622312\n",
            "Train Accuracy:  0.78806\n",
            "Validation Accuracy:  0.7459\n",
            "Epoch: 54, Loss: 0.637845\n",
            "Train Accuracy:  0.78632\n",
            "Validation Accuracy:  0.7413\n",
            "Epoch: 55, Loss: 0.620714\n",
            "Train Accuracy:  0.79026\n",
            "Validation Accuracy:  0.7548\n",
            "Epoch: 56, Loss: 0.494336\n",
            "Train Accuracy:  0.79238\n",
            "Validation Accuracy:  0.7408\n",
            "Epoch: 57, Loss: 0.566711\n",
            "Train Accuracy:  0.7903\n",
            "Validation Accuracy:  0.7423\n",
            "Epoch: 58, Loss: 0.597286\n",
            "Train Accuracy:  0.79348\n",
            "Validation Accuracy:  0.7448\n",
            "Epoch: 59, Loss: 0.602750\n",
            "Train Accuracy:  0.79064\n",
            "Validation Accuracy:  0.7446\n",
            "Epoch: 60, Loss: 0.567140\n",
            "Train Accuracy:  0.79154\n",
            "Validation Accuracy:  0.7407\n",
            "Epoch: 61, Loss: 0.576614\n",
            "Train Accuracy:  0.79418\n",
            "Validation Accuracy:  0.7394\n",
            "Epoch: 62, Loss: 0.556407\n",
            "Train Accuracy:  0.79446\n",
            "Validation Accuracy:  0.7522\n",
            "Epoch: 63, Loss: 0.620306\n",
            "Train Accuracy:  0.7988\n",
            "Validation Accuracy:  0.7545\n",
            "Epoch: 64, Loss: 0.565595\n",
            "Train Accuracy:  0.78818\n",
            "Validation Accuracy:  0.7385\n",
            "Epoch: 65, Loss: 0.617478\n",
            "Train Accuracy:  0.80066\n",
            "Validation Accuracy:  0.7459\n",
            "Epoch: 66, Loss: 0.586978\n",
            "Train Accuracy:  0.79894\n",
            "Validation Accuracy:  0.7445\n",
            "Epoch: 67, Loss: 0.556513\n",
            "Train Accuracy:  0.8028\n",
            "Validation Accuracy:  0.748\n",
            "Epoch: 68, Loss: 0.501854\n",
            "Train Accuracy:  0.7993\n",
            "Validation Accuracy:  0.7446\n",
            "Epoch: 69, Loss: 0.572355\n",
            "Train Accuracy:  0.79868\n",
            "Validation Accuracy:  0.7471\n",
            "Epoch: 70, Loss: 0.639309\n",
            "Train Accuracy:  0.80512\n",
            "Validation Accuracy:  0.7522\n",
            "Epoch: 71, Loss: 0.582936\n",
            "Train Accuracy:  0.8054\n",
            "Validation Accuracy:  0.7473\n",
            "Epoch: 72, Loss: 0.569065\n",
            "Train Accuracy:  0.80052\n",
            "Validation Accuracy:  0.7487\n",
            "Epoch: 73, Loss: 0.589574\n",
            "Train Accuracy:  0.80322\n",
            "Validation Accuracy:  0.7532\n",
            "Epoch: 74, Loss: 0.637156\n",
            "Train Accuracy:  0.80306\n",
            "Validation Accuracy:  0.7477\n",
            "Epoch: 75, Loss: 0.571857\n",
            "Train Accuracy:  0.8063\n",
            "Validation Accuracy:  0.7511\n",
            "Epoch: 76, Loss: 0.549403\n",
            "Train Accuracy:  0.80422\n",
            "Validation Accuracy:  0.7523\n",
            "Epoch: 77, Loss: 0.484421\n",
            "Train Accuracy:  0.80822\n",
            "Validation Accuracy:  0.7569\n",
            "Epoch: 78, Loss: 0.555980\n",
            "Train Accuracy:  0.80904\n",
            "Validation Accuracy:  0.7513\n",
            "Epoch: 79, Loss: 0.524022\n",
            "Train Accuracy:  0.8072\n",
            "Validation Accuracy:  0.753\n",
            "Epoch: 80, Loss: 0.519798\n",
            "Train Accuracy:  0.8105\n",
            "Validation Accuracy:  0.7553\n",
            "Epoch: 81, Loss: 0.575181\n",
            "Train Accuracy:  0.81052\n",
            "Validation Accuracy:  0.757\n",
            "Epoch: 82, Loss: 0.506215\n",
            "Train Accuracy:  0.81108\n",
            "Validation Accuracy:  0.7495\n",
            "Epoch: 83, Loss: 0.538006\n",
            "Train Accuracy:  0.81284\n",
            "Validation Accuracy:  0.7538\n",
            "Epoch: 84, Loss: 0.511535\n",
            "Train Accuracy:  0.80866\n",
            "Validation Accuracy:  0.7525\n",
            "Epoch: 85, Loss: 0.483523\n",
            "Train Accuracy:  0.81186\n",
            "Validation Accuracy:  0.7576\n",
            "Epoch: 86, Loss: 0.499246\n",
            "Train Accuracy:  0.81352\n",
            "Validation Accuracy:  0.7544\n",
            "Epoch: 87, Loss: 0.501218\n",
            "Train Accuracy:  0.8124\n",
            "Validation Accuracy:  0.7545\n",
            "Epoch: 88, Loss: 0.500285\n",
            "Train Accuracy:  0.80994\n",
            "Validation Accuracy:  0.7562\n",
            "Epoch: 89, Loss: 0.446566\n",
            "Train Accuracy:  0.81432\n",
            "Validation Accuracy:  0.7497\n",
            "Epoch: 90, Loss: 0.550667\n",
            "Train Accuracy:  0.81252\n",
            "Validation Accuracy:  0.7578\n",
            "Epoch: 91, Loss: 0.594507\n",
            "Train Accuracy:  0.8134\n",
            "Validation Accuracy:  0.7583\n",
            "Epoch: 92, Loss: 0.465999\n",
            "Train Accuracy:  0.81188\n",
            "Validation Accuracy:  0.7566\n",
            "Epoch: 93, Loss: 0.553057\n",
            "Train Accuracy:  0.81456\n",
            "Validation Accuracy:  0.7551\n",
            "Epoch: 94, Loss: 0.473382\n",
            "Train Accuracy:  0.8135\n",
            "Validation Accuracy:  0.7609\n",
            "Epoch: 95, Loss: 0.522763\n",
            "Train Accuracy:  0.81356\n",
            "Validation Accuracy:  0.7545\n",
            "Epoch: 96, Loss: 0.459137\n",
            "Train Accuracy:  0.81478\n",
            "Validation Accuracy:  0.7577\n",
            "Epoch: 97, Loss: 0.556506\n",
            "Train Accuracy:  0.8125\n",
            "Validation Accuracy:  0.7538\n",
            "Epoch: 98, Loss: 0.567957\n",
            "Train Accuracy:  0.81618\n",
            "Validation Accuracy:  0.7563\n",
            "Epoch: 99, Loss: 0.536920\n",
            "Train Accuracy:  0.81452\n",
            "Validation Accuracy:  0.7568\n",
            "Epoch: 100, Loss: 0.575459\n",
            "Train Accuracy:  0.81408\n",
            "Validation Accuracy:  0.7595\n",
            "Epoch: 101, Loss: 0.543983\n",
            "Train Accuracy:  0.81484\n",
            "Validation Accuracy:  0.7595\n",
            "Epoch: 102, Loss: 0.496095\n",
            "Train Accuracy:  0.81176\n",
            "Validation Accuracy:  0.7523\n",
            "Epoch: 103, Loss: 0.471616\n",
            "Train Accuracy:  0.81486\n",
            "Validation Accuracy:  0.759\n",
            "Epoch: 104, Loss: 0.556609\n",
            "Train Accuracy:  0.81508\n",
            "Validation Accuracy:  0.7584\n",
            "Epoch: 105, Loss: 0.545604\n",
            "Train Accuracy:  0.81602\n",
            "Validation Accuracy:  0.7515\n",
            "Epoch: 106, Loss: 0.480679\n",
            "Train Accuracy:  0.81574\n",
            "Validation Accuracy:  0.7541\n",
            "Epoch: 107, Loss: 0.568501\n",
            "Train Accuracy:  0.81624\n",
            "Validation Accuracy:  0.7535\n",
            "Epoch: 108, Loss: 0.447016\n",
            "Train Accuracy:  0.8147\n",
            "Validation Accuracy:  0.7564\n",
            "Epoch: 109, Loss: 0.442360\n",
            "Train Accuracy:  0.81352\n",
            "Validation Accuracy:  0.7549\n",
            "Epoch: 110, Loss: 0.470898\n",
            "Train Accuracy:  0.81494\n",
            "Validation Accuracy:  0.756\n",
            "Epoch: 111, Loss: 0.526475\n",
            "Train Accuracy:  0.81408\n",
            "Validation Accuracy:  0.7545\n",
            "Epoch: 112, Loss: 0.539285\n",
            "Train Accuracy:  0.81338\n",
            "Validation Accuracy:  0.7551\n",
            "Epoch: 113, Loss: 0.586263\n",
            "Train Accuracy:  0.81212\n",
            "Validation Accuracy:  0.7541\n",
            "Epoch: 114, Loss: 0.547965\n",
            "Train Accuracy:  0.81458\n",
            "Validation Accuracy:  0.7471\n",
            "Epoch: 115, Loss: 0.537049\n",
            "Train Accuracy:  0.81262\n",
            "Validation Accuracy:  0.7548\n",
            "Epoch: 116, Loss: 0.524566\n",
            "Train Accuracy:  0.81394\n",
            "Validation Accuracy:  0.7566\n",
            "Epoch: 117, Loss: 0.531567\n",
            "Train Accuracy:  0.812\n",
            "Validation Accuracy:  0.7534\n",
            "Epoch: 118, Loss: 0.603907\n",
            "Train Accuracy:  0.81198\n",
            "Validation Accuracy:  0.7536\n",
            "Epoch: 119, Loss: 0.567522\n",
            "Train Accuracy:  0.81574\n",
            "Validation Accuracy:  0.7484\n",
            "0.7609\n"
          ],
          "name": "stdout"
        }
      ]
    },
    {
      "cell_type": "markdown",
      "metadata": {
        "id": "XmImWzJ1DvSB"
      },
      "source": [
        "## Plotting"
      ]
    },
    {
      "cell_type": "code",
      "metadata": {
        "id": "9G9xaN4uDyU7",
        "colab": {
          "base_uri": "https://localhost:8080/"
        },
        "outputId": "74b416b5-a4a3-4452-e411-96c4e9c76d95"
      },
      "source": [
        "plt.plot(epochs, val_acc, label=\"val acc\", color=\"green\", linestyle='-.')\n",
        "plt.plot(epochs, train_acc, label=\"train acc\", color=\"red\",linestyle=':')\n",
        "plt.scatter([max_epoch], [max_validation],color=\"blue\", marker=\"d\", label=\"early stopped\", s=100 )\n",
        "plt.title(\"Model w/ 2 FC layer fine tuning\")\n",
        "plt.legend()\n",
        "plt.tight_layout()\n",
        "plt.savefig('fctuning2[224].png',dpi=600)\n",
        "plt.show()\n",
        "torch.save(val_acc, 'val_acc2b[224].pt')\n",
        "torch.save(train_acc, 'train_acc2b[224].pt')"
      ],
      "execution_count": null,
      "outputs": [
        {
          "output_type": "display_data",
          "data": {
            "image/png": "[encoded data removed]",
            "text/plain": [
              "<Figure size 432x288 with 1 Axes>"
            ]
          },
          "metadata": {
            "tags": [],
            "needs_background": "light"
          }
        }
      ]
    },
    {
      "cell_type": "code",
      "metadata": {
        "id": "zFrPhzXWaiPU",
        "colab": {
          "base_uri": "https://localhost:8080/",
          "height": 34
        },
        "outputId": "6440169f-fcde-45fd-bb9c-552447c05a38"
      },
      "source": [
        "from google.colab import files\n",
        "files.download('fctuning2[224].png') \n",
        "files.download('val_acc2b[224].pt') \n",
        "files.download('train_acc2b[224].pt') \n",
        "files.download('./only2FC.pt') "
      ],
      "execution_count": null,
      "outputs": [
        {
          "output_type": "display_data",
          "data": {
            "application/javascript": [
              "\n",
              "    async function download(id, filename, size) {\n",
              "      if (!google.colab.kernel.accessAllowed) {\n",
              "        return;\n",
              "      }\n",
              "      const div = document.createElement('div');\n",
              "      const label = document.createElement('label');\n",
              "      label.textContent = `Downloading \"${filename}\": `;\n",
              "      div.appendChild(label);\n",
              "      const progress = document.createElement('progress');\n",
              "      progress.max = size;\n",
              "      div.appendChild(progress);\n",
              "      document.body.appendChild(div);\n",
              "\n",
              "      const buffers = [];\n",
              "      let downloaded = 0;\n",
              "\n",
              "      const channel = await google.colab.kernel.comms.open(id);\n",
              "      // Send a message to notify the kernel that we're ready.\n",
              "      channel.send({})\n",
              "\n",
              "      for await (const message of channel.messages) {\n",
              "        // Send a message to notify the kernel that we're ready.\n",
              "        channel.send({})\n",
              "        if (message.buffers) {\n",
              "          for (const buffer of message.buffers) {\n",
              "            buffers.push(buffer);\n",
              "            downloaded += buffer.byteLength;\n",
              "            progress.value = downloaded;\n",
              "          }\n",
              "        }\n",
              "      }\n",
              "      const blob = new Blob(buffers, {type: 'application/binary'});\n",
              "      const a = document.createElement('a');\n",
              "      a.href = window.URL.createObjectURL(blob);\n",
              "      a.download = filename;\n",
              "      div.appendChild(a);\n",
              "      a.click();\n",
              "      div.remove();\n",
              "    }\n",
              "  "
            ],
            "text/plain": [
              "<IPython.core.display.Javascript object>"
            ]
          },
          "metadata": {
            "tags": []
          }
        },
        {
          "output_type": "display_data",
          "data": {
            "application/javascript": [
              "download(\"download_21ddc4cf-3bba-4f0b-98ab-d51069985f65\", \"fctuning2[224].png\", 339123)"
            ],
            "text/plain": [
              "<IPython.core.display.Javascript object>"
            ]
          },
          "metadata": {
            "tags": []
          }
        },
        {
          "output_type": "display_data",
          "data": {
            "application/javascript": [
              "\n",
              "    async function download(id, filename, size) {\n",
              "      if (!google.colab.kernel.accessAllowed) {\n",
              "        return;\n",
              "      }\n",
              "      const div = document.createElement('div');\n",
              "      const label = document.createElement('label');\n",
              "      label.textContent = `Downloading \"${filename}\": `;\n",
              "      div.appendChild(label);\n",
              "      const progress = document.createElement('progress');\n",
              "      progress.max = size;\n",
              "      div.appendChild(progress);\n",
              "      document.body.appendChild(div);\n",
              "\n",
              "      const buffers = [];\n",
              "      let downloaded = 0;\n",
              "\n",
              "      const channel = await google.colab.kernel.comms.open(id);\n",
              "      // Send a message to notify the kernel that we're ready.\n",
              "      channel.send({})\n",
              "\n",
              "      for await (const message of channel.messages) {\n",
              "        // Send a message to notify the kernel that we're ready.\n",
              "        channel.send({})\n",
              "        if (message.buffers) {\n",
              "          for (const buffer of message.buffers) {\n",
              "            buffers.push(buffer);\n",
              "            downloaded += buffer.byteLength;\n",
              "            progress.value = downloaded;\n",
              "          }\n",
              "        }\n",
              "      }\n",
              "      const blob = new Blob(buffers, {type: 'application/binary'});\n",
              "      const a = document.createElement('a');\n",
              "      a.href = window.URL.createObjectURL(blob);\n",
              "      a.download = filename;\n",
              "      div.appendChild(a);\n",
              "      a.click();\n",
              "      div.remove();\n",
              "    }\n",
              "  "
            ],
            "text/plain": [
              "<IPython.core.display.Javascript object>"
            ]
          },
          "metadata": {
            "tags": []
          }
        },
        {
          "output_type": "display_data",
          "data": {
            "application/javascript": [
              "download(\"download_c24b9087-8626-4698-a44e-41e25d659949\", \"val_acc2b[224].pt\", 1519)"
            ],
            "text/plain": [
              "<IPython.core.display.Javascript object>"
            ]
          },
          "metadata": {
            "tags": []
          }
        },
        {
          "output_type": "display_data",
          "data": {
            "application/javascript": [
              "\n",
              "    async function download(id, filename, size) {\n",
              "      if (!google.colab.kernel.accessAllowed) {\n",
              "        return;\n",
              "      }\n",
              "      const div = document.createElement('div');\n",
              "      const label = document.createElement('label');\n",
              "      label.textContent = `Downloading \"${filename}\": `;\n",
              "      div.appendChild(label);\n",
              "      const progress = document.createElement('progress');\n",
              "      progress.max = size;\n",
              "      div.appendChild(progress);\n",
              "      document.body.appendChild(div);\n",
              "\n",
              "      const buffers = [];\n",
              "      let downloaded = 0;\n",
              "\n",
              "      const channel = await google.colab.kernel.comms.open(id);\n",
              "      // Send a message to notify the kernel that we're ready.\n",
              "      channel.send({})\n",
              "\n",
              "      for await (const message of channel.messages) {\n",
              "        // Send a message to notify the kernel that we're ready.\n",
              "        channel.send({})\n",
              "        if (message.buffers) {\n",
              "          for (const buffer of message.buffers) {\n",
              "            buffers.push(buffer);\n",
              "            downloaded += buffer.byteLength;\n",
              "            progress.value = downloaded;\n",
              "          }\n",
              "        }\n",
              "      }\n",
              "      const blob = new Blob(buffers, {type: 'application/binary'});\n",
              "      const a = document.createElement('a');\n",
              "      a.href = window.URL.createObjectURL(blob);\n",
              "      a.download = filename;\n",
              "      div.appendChild(a);\n",
              "      a.click();\n",
              "      div.remove();\n",
              "    }\n",
              "  "
            ],
            "text/plain": [
              "<IPython.core.display.Javascript object>"
            ]
          },
          "metadata": {
            "tags": []
          }
        },
        {
          "output_type": "display_data",
          "data": {
            "application/javascript": [
              "download(\"download_3c47250b-d04a-4194-a3b0-20f1090e18cd\", \"train_acc2b[224].pt\", 1519)"
            ],
            "text/plain": [
              "<IPython.core.display.Javascript object>"
            ]
          },
          "metadata": {
            "tags": []
          }
        },
        {
          "output_type": "display_data",
          "data": {
            "application/javascript": [
              "\n",
              "    async function download(id, filename, size) {\n",
              "      if (!google.colab.kernel.accessAllowed) {\n",
              "        return;\n",
              "      }\n",
              "      const div = document.createElement('div');\n",
              "      const label = document.createElement('label');\n",
              "      label.textContent = `Downloading \"${filename}\": `;\n",
              "      div.appendChild(label);\n",
              "      const progress = document.createElement('progress');\n",
              "      progress.max = size;\n",
              "      div.appendChild(progress);\n",
              "      document.body.appendChild(div);\n",
              "\n",
              "      const buffers = [];\n",
              "      let downloaded = 0;\n",
              "\n",
              "      const channel = await google.colab.kernel.comms.open(id);\n",
              "      // Send a message to notify the kernel that we're ready.\n",
              "      channel.send({})\n",
              "\n",
              "      for await (const message of channel.messages) {\n",
              "        // Send a message to notify the kernel that we're ready.\n",
              "        channel.send({})\n",
              "        if (message.buffers) {\n",
              "          for (const buffer of message.buffers) {\n",
              "            buffers.push(buffer);\n",
              "            downloaded += buffer.byteLength;\n",
              "            progress.value = downloaded;\n",
              "          }\n",
              "        }\n",
              "      }\n",
              "      const blob = new Blob(buffers, {type: 'application/binary'});\n",
              "      const a = document.createElement('a');\n",
              "      a.href = window.URL.createObjectURL(blob);\n",
              "      a.download = filename;\n",
              "      div.appendChild(a);\n",
              "      a.click();\n",
              "      div.remove();\n",
              "    }\n",
              "  "
            ],
            "text/plain": [
              "<IPython.core.display.Javascript object>"
            ]
          },
          "metadata": {
            "tags": []
          }
        },
        {
          "output_type": "display_data",
          "data": {
            "application/javascript": [
              "download(\"download_b5f3b81e-e7d7-4d56-b555-11e6f40ef3fd\", \"only2FC.pt\", 45331473)"
            ],
            "text/plain": [
              "<IPython.core.display.Javascript object>"
            ]
          },
          "metadata": {
            "tags": []
          }
        }
      ]
    }
  ]
}