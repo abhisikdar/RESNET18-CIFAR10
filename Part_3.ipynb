{
  "nbformat": 4,
  "nbformat_minor": 0,
  "metadata": {
    "colab": {
      "name": "793Ass3c_FromScratch_Augmentations_w/Scaling.ipynb",
      "provenance": [],
      "collapsed_sections": []
    },
    "kernelspec": {
      "name": "python3",
      "display_name": "Python 3"
    },
    "accelerator": "GPU",
    "widgets": {
      "application/vnd.jupyter.widget-state+json": {
        "3896d22f6c18462c9d98b5518a169b14": {
          "model_module": "@jupyter-widgets/controls",
          "model_name": "HBoxModel",
          "state": {
            "_view_name": "HBoxView",
            "_dom_classes": [],
            "_model_name": "HBoxModel",
            "_view_module": "@jupyter-widgets/controls",
            "_model_module_version": "1.5.0",
            "_view_count": null,
            "_view_module_version": "1.5.0",
            "box_style": "",
            "layout": "IPY_MODEL_4d145387cca8441fba5b2e3d0adae525",
            "_model_module": "@jupyter-widgets/controls",
            "children": [
              "IPY_MODEL_7e423b2880cb4673a6aafb3ee66e8eda",
              "IPY_MODEL_95602347b5d6409dbc1703442a65359f"
            ]
          }
        },
        "4d145387cca8441fba5b2e3d0adae525": {
          "model_module": "@jupyter-widgets/base",
          "model_name": "LayoutModel",
          "state": {
            "_view_name": "LayoutView",
            "grid_template_rows": null,
            "right": null,
            "justify_content": null,
            "_view_module": "@jupyter-widgets/base",
            "overflow": null,
            "_model_module_version": "1.2.0",
            "_view_count": null,
            "flex_flow": null,
            "width": null,
            "min_width": null,
            "border": null,
            "align_items": null,
            "bottom": null,
            "_model_module": "@jupyter-widgets/base",
            "top": null,
            "grid_column": null,
            "overflow_y": null,
            "overflow_x": null,
            "grid_auto_flow": null,
            "grid_area": null,
            "grid_template_columns": null,
            "flex": null,
            "_model_name": "LayoutModel",
            "justify_items": null,
            "grid_row": null,
            "max_height": null,
            "align_content": null,
            "visibility": null,
            "align_self": null,
            "height": null,
            "min_height": null,
            "padding": null,
            "grid_auto_rows": null,
            "grid_gap": null,
            "max_width": null,
            "order": null,
            "_view_module_version": "1.2.0",
            "grid_template_areas": null,
            "object_position": null,
            "object_fit": null,
            "grid_auto_columns": null,
            "margin": null,
            "display": null,
            "left": null
          }
        },
        "7e423b2880cb4673a6aafb3ee66e8eda": {
          "model_module": "@jupyter-widgets/controls",
          "model_name": "FloatProgressModel",
          "state": {
            "_view_name": "ProgressView",
            "style": "IPY_MODEL_1aa10445e320434296162afd63d0a164",
            "_dom_classes": [],
            "description": "",
            "_model_name": "FloatProgressModel",
            "bar_style": "success",
            "max": 1,
            "_view_module": "@jupyter-widgets/controls",
            "_model_module_version": "1.5.0",
            "value": 1,
            "_view_count": null,
            "_view_module_version": "1.5.0",
            "orientation": "horizontal",
            "min": 0,
            "description_tooltip": null,
            "_model_module": "@jupyter-widgets/controls",
            "layout": "IPY_MODEL_809c73ce2f684860b84b43c71ea2af37"
          }
        },
        "95602347b5d6409dbc1703442a65359f": {
          "model_module": "@jupyter-widgets/controls",
          "model_name": "HTMLModel",
          "state": {
            "_view_name": "HTMLView",
            "style": "IPY_MODEL_84cbcd4d091b4a0397dfe7fbd390fcc5",
            "_dom_classes": [],
            "description": "",
            "_model_name": "HTMLModel",
            "placeholder": "​",
            "_view_module": "@jupyter-widgets/controls",
            "_model_module_version": "1.5.0",
            "value": " 170500096/? [00:07&lt;00:00, 22804470.92it/s]",
            "_view_count": null,
            "_view_module_version": "1.5.0",
            "description_tooltip": null,
            "_model_module": "@jupyter-widgets/controls",
            "layout": "IPY_MODEL_d2ab05c0fec94189b342f8723e91b08a"
          }
        },
        "1aa10445e320434296162afd63d0a164": {
          "model_module": "@jupyter-widgets/controls",
          "model_name": "ProgressStyleModel",
          "state": {
            "_view_name": "StyleView",
            "_model_name": "ProgressStyleModel",
            "description_width": "initial",
            "_view_module": "@jupyter-widgets/base",
            "_model_module_version": "1.5.0",
            "_view_count": null,
            "_view_module_version": "1.2.0",
            "bar_color": null,
            "_model_module": "@jupyter-widgets/controls"
          }
        },
        "809c73ce2f684860b84b43c71ea2af37": {
          "model_module": "@jupyter-widgets/base",
          "model_name": "LayoutModel",
          "state": {
            "_view_name": "LayoutView",
            "grid_template_rows": null,
            "right": null,
            "justify_content": null,
            "_view_module": "@jupyter-widgets/base",
            "overflow": null,
            "_model_module_version": "1.2.0",
            "_view_count": null,
            "flex_flow": null,
            "width": null,
            "min_width": null,
            "border": null,
            "align_items": null,
            "bottom": null,
            "_model_module": "@jupyter-widgets/base",
            "top": null,
            "grid_column": null,
            "overflow_y": null,
            "overflow_x": null,
            "grid_auto_flow": null,
            "grid_area": null,
            "grid_template_columns": null,
            "flex": null,
            "_model_name": "LayoutModel",
            "justify_items": null,
            "grid_row": null,
            "max_height": null,
            "align_content": null,
            "visibility": null,
            "align_self": null,
            "height": null,
            "min_height": null,
            "padding": null,
            "grid_auto_rows": null,
            "grid_gap": null,
            "max_width": null,
            "order": null,
            "_view_module_version": "1.2.0",
            "grid_template_areas": null,
            "object_position": null,
            "object_fit": null,
            "grid_auto_columns": null,
            "margin": null,
            "display": null,
            "left": null
          }
        },
        "84cbcd4d091b4a0397dfe7fbd390fcc5": {
          "model_module": "@jupyter-widgets/controls",
          "model_name": "DescriptionStyleModel",
          "state": {
            "_view_name": "StyleView",
            "_model_name": "DescriptionStyleModel",
            "description_width": "",
            "_view_module": "@jupyter-widgets/base",
            "_model_module_version": "1.5.0",
            "_view_count": null,
            "_view_module_version": "1.2.0",
            "_model_module": "@jupyter-widgets/controls"
          }
        },
        "d2ab05c0fec94189b342f8723e91b08a": {
          "model_module": "@jupyter-widgets/base",
          "model_name": "LayoutModel",
          "state": {
            "_view_name": "LayoutView",
            "grid_template_rows": null,
            "right": null,
            "justify_content": null,
            "_view_module": "@jupyter-widgets/base",
            "overflow": null,
            "_model_module_version": "1.2.0",
            "_view_count": null,
            "flex_flow": null,
            "width": null,
            "min_width": null,
            "border": null,
            "align_items": null,
            "bottom": null,
            "_model_module": "@jupyter-widgets/base",
            "top": null,
            "grid_column": null,
            "overflow_y": null,
            "overflow_x": null,
            "grid_auto_flow": null,
            "grid_area": null,
            "grid_template_columns": null,
            "flex": null,
            "_model_name": "LayoutModel",
            "justify_items": null,
            "grid_row": null,
            "max_height": null,
            "align_content": null,
            "visibility": null,
            "align_self": null,
            "height": null,
            "min_height": null,
            "padding": null,
            "grid_auto_rows": null,
            "grid_gap": null,
            "max_width": null,
            "order": null,
            "_view_module_version": "1.2.0",
            "grid_template_areas": null,
            "object_position": null,
            "object_fit": null,
            "grid_auto_columns": null,
            "margin": null,
            "display": null,
            "left": null
          }
        }
      }
    }
  },
  "cells": [
    {
      "cell_type": "markdown",
      "metadata": {
        "id": "TTXYgIfd0fhQ"
      },
      "source": [
        "# ELL793 Assignment 3 Part (c)\n",
        "**ResNet-18 From Scratch on TINY CIFAR-10 with Augmentations** <br>\n",
        "Abhinava Sikdar 2017MT01724 <br>\n",
        "Yashank Singh 2017MT10756"
      ]
    },
    {
      "cell_type": "code",
      "metadata": {
        "colab": {
          "base_uri": "https://localhost:8080/"
        },
        "id": "GFOMo5uNyB7q",
        "outputId": "dd91609b-4d63-42dc-f77f-fe0fa2b94c32"
      },
      "source": [
        "import torch\n",
        "from torchvision import datasets\n",
        "from torchvision import transforms\n",
        "import matplotlib.pyplot as plt\n",
        "import torch.nn as nn\n",
        "import torch.nn.functional as F\n",
        "import torchvision.models as models\n",
        "from collections import defaultdict, deque\n",
        "import itertools\n",
        "\n",
        "print('Is CUDA available', torch.cuda.is_available())\n",
        "print('Torch', torch.__version__, 'CUDA', torch.version.cuda)\n",
        "print('Device:', torch.device('cuda:0'))"
      ],
      "execution_count": null,
      "outputs": [
        {
          "output_type": "stream",
          "text": [
            "Is CUDA available False\n",
            "Torch 1.7.0+cu101 CUDA 10.1\n",
            "Device: cuda:0\n"
          ],
          "name": "stdout"
        }
      ]
    },
    {
      "cell_type": "code",
      "metadata": {
        "colab": {
          "base_uri": "https://localhost:8080/"
        },
        "id": "fVuCpaXUmyRW",
        "outputId": "b512a123-ded8-4b51-db61-732c93efe4de"
      },
      "source": [
        "from google.colab import drive\n",
        "drive.mount('/content/drive')"
      ],
      "execution_count": null,
      "outputs": [
        {
          "output_type": "stream",
          "text": [
            "Mounted at /content/drive\n"
          ],
          "name": "stdout"
        }
      ]
    },
    {
      "cell_type": "code",
      "metadata": {
        "colab": {
          "base_uri": "https://localhost:8080/"
        },
        "id": "9c1WSmkmmzll",
        "outputId": "62702098-f3d3-485f-bd06-f2fc1df6e95b"
      },
      "source": [
        "a=torch.load('/content/drive/MyDrive/ELL793/Assn3/tiny_with_aug/train_acc_tinyaugX.pt')\r\n",
        "b=torch.load('/content/drive/MyDrive/ELL793/Assn3/tiny_with_aug/val_acc_tinyaugX.pt')\r\n",
        "print(max(a))\r\n",
        "print(max(b))"
      ],
      "execution_count": null,
      "outputs": [
        {
          "output_type": "stream",
          "text": [
            "0.7198\n",
            "0.58\n"
          ],
          "name": "stdout"
        }
      ]
    },
    {
      "cell_type": "markdown",
      "metadata": {
        "id": "tj8h47oxWLXi"
      },
      "source": [
        "# Handling Data"
      ]
    },
    {
      "cell_type": "code",
      "metadata": {
        "colab": {
          "base_uri": "https://localhost:8080/",
          "height": 83,
          "referenced_widgets": [
            "3896d22f6c18462c9d98b5518a169b14",
            "4d145387cca8441fba5b2e3d0adae525",
            "7e423b2880cb4673a6aafb3ee66e8eda",
            "95602347b5d6409dbc1703442a65359f",
            "1aa10445e320434296162afd63d0a164",
            "809c73ce2f684860b84b43c71ea2af37",
            "84cbcd4d091b4a0397dfe7fbd390fcc5",
            "d2ab05c0fec94189b342f8723e91b08a"
          ]
        },
        "id": "--0_XaZoyMxG",
        "outputId": "9318f44f-b8b3-4a97-c381-0bd6b665bfab"
      },
      "source": [
        "data_path='../data/'\n",
        "cifar=datasets.CIFAR10(data_path, train= True, download=True, transform=transforms.ToTensor())"
      ],
      "execution_count": null,
      "outputs": [
        {
          "output_type": "stream",
          "text": [
            "Downloading https://www.cs.toronto.edu/~kriz/cifar-10-python.tar.gz to ../data/cifar-10-python.tar.gz\n"
          ],
          "name": "stdout"
        },
        {
          "output_type": "display_data",
          "data": {
            "application/vnd.jupyter.widget-view+json": {
              "model_id": "3896d22f6c18462c9d98b5518a169b14",
              "version_minor": 0,
              "version_major": 2
            },
            "text/plain": [
              "HBox(children=(FloatProgress(value=1.0, bar_style='info', max=1.0), HTML(value='')))"
            ]
          },
          "metadata": {
            "tags": []
          }
        },
        {
          "output_type": "stream",
          "text": [
            "Extracting ../data/cifar-10-python.tar.gz to ../data/\n"
          ],
          "name": "stdout"
        }
      ]
    },
    {
      "cell_type": "code",
      "metadata": {
        "colab": {
          "base_uri": "https://localhost:8080/"
        },
        "id": "bUjrmmx-yM7d",
        "outputId": "9be858e3-6331-4183-def8-cd6ace38c44e"
      },
      "source": [
        "cifar_stack = torch.stack([img for img, _ in cifar], dim=3)\n",
        "print('Shape of the CIFAR stack is',cifar_stack.shape)\n",
        "mean= cifar_stack.view(3,-1).mean(dim=1)\n",
        "std= cifar_stack.view(3,-1).std(dim=1)\n",
        "print('Mean of training data is', mean)\n",
        "print('Standard deviation of training data is', std)"
      ],
      "execution_count": null,
      "outputs": [
        {
          "output_type": "stream",
          "text": [
            "\n",
            "Shape of the CIFAR stack is torch.Size([3, 32, 32, 50000])\n",
            "Mean of training data is tensor([0.4914, 0.4822, 0.4465])\n",
            "Standard deviation of training data is tensor([0.2470, 0.2435, 0.2616])\n"
          ],
          "name": "stdout"
        }
      ]
    },
    {
      "cell_type": "markdown",
      "metadata": {
        "id": "3IVAfSI_WPPg"
      },
      "source": [
        "## Making Tiny CIFAR dataset"
      ]
    },
    {
      "cell_type": "code",
      "metadata": {
        "id": "LnrhBMa7dP0D"
      },
      "source": [
        "class TinyCifar(datasets.CIFAR10):\n",
        "    def __init__(self, path, transforms, train=True):\n",
        "        super().__init__(path, train, download=True)\n",
        "        self.transforms = transforms\n",
        "        self.n_images_per_class = 500\n",
        "        self.n_classes = 10\n",
        "        self.new2old_indices = self.create_idx_mapping()\n",
        "\n",
        "    def create_idx_mapping(self):\n",
        "        label2idx = defaultdict(lambda: deque(maxlen=self.n_images_per_class))\n",
        "        for original_idx in range(super().__len__()):\n",
        "            _, label = super().__getitem__(original_idx)\n",
        "            label2idx[label].append(original_idx)\n",
        "\n",
        "        old_idxs = set(itertools.chain(*label2idx.values()))\n",
        "        new2old_indices = {}\n",
        "        for new_idx, old_idx in enumerate(old_idxs):\n",
        "            new2old_indices[new_idx] = old_idx\n",
        "\n",
        "        return new2old_indices\n",
        "\n",
        "    def __len__(self):\n",
        "        return len(self.new2old_indices)\n",
        "\n",
        "    def __getitem__(self, index):\n",
        "        index = self.new2old_indices[index]\n",
        "        im, label = super().__getitem__(index)\n",
        "        return self.transforms(im), label"
      ],
      "execution_count": null,
      "outputs": []
    },
    {
      "cell_type": "markdown",
      "metadata": {
        "id": "0pJZ39lQWV1E"
      },
      "source": [
        "## Applying Augmentations"
      ]
    },
    {
      "cell_type": "code",
      "metadata": {
        "colab": {
          "base_uri": "https://localhost:8080/"
        },
        "id": "ZXKYxVVvdQKF",
        "outputId": "660f4cb7-029c-495b-f8f5-287446d77a1a"
      },
      "source": [
        "import random\n",
        "try:\n",
        "    from PIL import ImageFilter\n",
        "except ModuleNotFoundError:\n",
        "    warn_missing_pkg('PIL', pypi_name='Pillow')  # pragma: no-cover\n",
        "    _PIL_AVAILABLE = False\n",
        "else:\n",
        "    _PIL_AVAILABLE = True\n",
        "class GaussianBlur(object):\n",
        "    \"\"\"Gaussian blur augmentation in SimCLR https://arxiv.org/abs/2002.05709\"\"\"\n",
        "\n",
        "    def __init__(self, sigma=(0.1, 2.0)):\n",
        "        if not _PIL_AVAILABLE:\n",
        "            raise ModuleNotFoundError(  # pragma: no-cover\n",
        "                'You want to use `Pillow` which is not installed yet, install it with `pip install Pillow`.'\n",
        "            )\n",
        "        self.sigma = sigma\n",
        "\n",
        "    def __call__(self, x):\n",
        "        sigma = random.uniform(self.sigma[0], self.sigma[1])\n",
        "        x = x.filter(ImageFilter.GaussianBlur(radius=sigma))\n",
        "        return x\n",
        "height=224\n",
        "train_tr = transforms.Compose([\n",
        "            transforms.RandomResizedCrop(height, scale=(0.2, 1.)),\n",
        "            transforms.RandomApply([\n",
        "                transforms.ColorJitter(0.4, 0.4, 0.4, 0.1)  # not strengthened\n",
        "            ], p=0.4),\n",
        "            transforms.RandomGrayscale(p=0.2),\n",
        "            transforms.RandomApply([GaussianBlur([.1, 2.])], p=0.2),\n",
        "            transforms.RandomHorizontalFlip(),\n",
        "            transforms.ToTensor(),\n",
        "            transforms.Normalize(mean,std)\n",
        "        ])\n",
        "eval_tr = transforms.Compose([\n",
        "            transforms.Resize(256),\n",
        "            transforms.CenterCrop(height),\n",
        "            transforms.ToTensor(),\n",
        "            transforms.Normalize(mean,std)\n",
        "        ])\n",
        "tinyCIFAR = TinyCifar(data_path, transforms=train_tr)\n",
        "CIFAR_val=datasets.CIFAR10(data_path, train=False, download= True, transform=eval_tr)"
      ],
      "execution_count": null,
      "outputs": [
        {
          "output_type": "stream",
          "text": [
            "Files already downloaded and verified\n",
            "Files already downloaded and verified\n"
          ],
          "name": "stdout"
        }
      ]
    },
    {
      "cell_type": "code",
      "metadata": {
        "colab": {
          "base_uri": "https://localhost:8080/",
          "height": 286
        },
        "id": "NTHzxidryNOy",
        "outputId": "a24943db-234e-4ab1-9b7d-5a4086e8c65b"
      },
      "source": [
        "img, label = CIFAR_val[30] \n",
        "plt.imshow(img.permute(1, 2, 0))\n",
        "plt.show()"
      ],
      "execution_count": null,
      "outputs": [
        {
          "output_type": "stream",
          "text": [
            "Clipping input data to the valid range for imshow with RGB data ([0..1] for floats or [0..255] for integers).\n"
          ],
          "name": "stderr"
        },
        {
          "output_type": "display_data",
          "data": {
            "image/png": "[encoded data removed]",
            "text/plain": [
              "<Figure size 432x288 with 1 Axes>"
            ]
          },
          "metadata": {
            "tags": [],
            "needs_background": "light"
          }
        }
      ]
    },
    {
      "cell_type": "markdown",
      "metadata": {
        "id": "NU7vBGawWZGw"
      },
      "source": [
        "# Hparams and Loaders"
      ]
    },
    {
      "cell_type": "code",
      "metadata": {
        "id": "L28kC5gklmuu"
      },
      "source": [
        "batch_size=256\n",
        "val_batch_size=256\n",
        "num_epochs=130\n",
        "learning_rate=2*1e-3\n",
        "\n",
        "dev=torch.device(\"cuda:0\" if torch.cuda.is_available() else \"cpu\")"
      ],
      "execution_count": null,
      "outputs": []
    },
    {
      "cell_type": "code",
      "metadata": {
        "id": "0z0qjmtJlqiE"
      },
      "source": [
        "train_loader=torch.utils.data.DataLoader(tinyCIFAR,batch_size=batch_size,shuffle=True, num_workers=4)\n",
        "train_acc_loader=torch.utils.data.DataLoader(tinyCIFAR,batch_size=256,shuffle=False,num_workers=4)\n",
        "val_loader = torch.utils.data.DataLoader(CIFAR_val, batch_size=val_batch_size, shuffle=False,num_workers=4)"
      ],
      "execution_count": null,
      "outputs": []
    },
    {
      "cell_type": "markdown",
      "metadata": {
        "id": "X0jrVHjCWhVe"
      },
      "source": [
        "# Model"
      ]
    },
    {
      "cell_type": "code",
      "metadata": {
        "id": "GMiSQgDpmF37"
      },
      "source": [
        "resnet18 =models.resnet18(pretrained=False, progress=True)\n",
        "resnet18=resnet18.to(dev)\n",
        "loss_func= torch.nn.CrossEntropyLoss()\n",
        "optimizer = torch.optim.SGD(resnet18.parameters(), lr=0.1, momentum=0.9, weight_decay=5e-4)\n",
        "scheduler = torch.optim.lr_scheduler.CosineAnnealingLR(optimizer, T_max=130)"
      ],
      "execution_count": null,
      "outputs": []
    },
    {
      "cell_type": "markdown",
      "metadata": {
        "id": "qPagp4CCWmeA"
      },
      "source": [
        "## Training"
      ]
    },
    {
      "cell_type": "code",
      "metadata": {
        "id": "DE3fm8g-mMSd"
      },
      "source": [
        "max_validation = 0\n",
        "max_epoch=0\n",
        "val_acc=[]\n",
        "train_acc=[]\n",
        "epochs=[]"
      ],
      "execution_count": null,
      "outputs": []
    },
    {
      "cell_type": "code",
      "metadata": {
        "colab": {
          "base_uri": "https://localhost:8080/"
        },
        "id": "VUT_zB1emOS9",
        "outputId": "909c546e-27d9-4d30-84eb-3ebac2459dbc"
      },
      "source": [
        "for i in range(num_epochs):\n",
        "\n",
        "  for imgs, labels in train_loader:\n",
        "    if dev is not None:\n",
        "      imgs,labels=imgs.to(dev),labels.to(dev)\n",
        "    out= resnet18(imgs)\n",
        "    loss=loss_func(out,labels)\n",
        "    optimizer.zero_grad()\n",
        "    loss.backward()\n",
        "    optimizer.step()\n",
        "  \n",
        "  correct_val = 0\n",
        "  total_val = 0\n",
        "  correct_train_acc=0\n",
        "  total_train_acc=0\n",
        "\n",
        "  with torch.no_grad():\n",
        "    for imgs, labels in val_loader:\n",
        "      if dev is not None:\n",
        "        imgs,labels=imgs.to(dev),labels.to(dev)\n",
        "      outputs = resnet18(imgs) \n",
        "      _, predicted = torch.max(outputs, dim=1) \n",
        "      total_val += labels.shape[0]\n",
        "      correct_val += int((predicted == labels).sum())\n",
        "    \n",
        "    val_acc.append(correct_val/total_val)\n",
        "\n",
        "    for train_acc_imgs,train_acc_labels in train_acc_loader:\n",
        "      if dev is not None:\n",
        "        train_acc_imgs,train_acc_labels=train_acc_imgs.to(dev),train_acc_labels.to(dev)\n",
        "      train_acc_out=resnet18(train_acc_imgs)\n",
        "      _, train_acc_predicted = torch.max(train_acc_out, dim=1)\n",
        "      total_train_acc += train_acc_labels.shape[0]\n",
        "      correct_train_acc += int((train_acc_predicted == train_acc_labels).sum())\n",
        "    if correct_val/total_val > max_validation:\n",
        "      max_validation=correct_val/total_val\n",
        "      max_epoch=i\n",
        "      #torch.save(resnet18,'/content/drive/MyDrive/ELL793/Assn3/tiny_with_aug/model5.pt' )\n",
        "    \n",
        "    train_acc.append(correct_train_acc/total_train_acc)\n",
        "  epochs.append(i)\n",
        "\n",
        "\n",
        "  if i%1==0:\n",
        "    print(\"Epoch: %d, Loss: %f\" % (i, float(loss)))\n",
        "    print(\"Train Accuracy: \", correct_train_acc / total_train_acc)\n",
        "    print(\"Validation Accuracy: \", correct_val / total_val)\n",
        "  \n",
        "  scheduler.step()\n",
        "\n",
        "print(max_validation)"
      ],
      "execution_count": null,
      "outputs": [
        {
          "output_type": "stream",
          "text": [
            "Epoch: 0, Loss: 4.141980\n",
            "Train Accuracy:  0.0976\n",
            "Validation Accuracy:  0.0952\n",
            "Epoch: 1, Loss: 2.604615\n",
            "Train Accuracy:  0.196\n",
            "Validation Accuracy:  0.197\n",
            "Epoch: 2, Loss: 2.082600\n",
            "Train Accuracy:  0.2282\n",
            "Validation Accuracy:  0.2416\n",
            "Epoch: 3, Loss: 2.058468\n",
            "Train Accuracy:  0.2352\n",
            "Validation Accuracy:  0.2593\n",
            "Epoch: 4, Loss: 1.979562\n",
            "Train Accuracy:  0.263\n",
            "Validation Accuracy:  0.2993\n",
            "Epoch: 5, Loss: 1.939417\n",
            "Train Accuracy:  0.2962\n",
            "Validation Accuracy:  0.3444\n",
            "Epoch: 6, Loss: 1.936843\n",
            "Train Accuracy:  0.2952\n",
            "Validation Accuracy:  0.3391\n",
            "Epoch: 7, Loss: 1.801767\n",
            "Train Accuracy:  0.312\n",
            "Validation Accuracy:  0.3509\n",
            "Epoch: 8, Loss: 1.805172\n",
            "Train Accuracy:  0.308\n",
            "Validation Accuracy:  0.3535\n",
            "Epoch: 9, Loss: 1.756196\n",
            "Train Accuracy:  0.33\n",
            "Validation Accuracy:  0.3805\n",
            "Epoch: 10, Loss: 1.819119\n",
            "Train Accuracy:  0.331\n",
            "Validation Accuracy:  0.3909\n",
            "Epoch: 11, Loss: 1.682024\n",
            "Train Accuracy:  0.3226\n",
            "Validation Accuracy:  0.3764\n",
            "Epoch: 12, Loss: 1.734309\n",
            "Train Accuracy:  0.3416\n",
            "Validation Accuracy:  0.3972\n",
            "Epoch: 13, Loss: 1.767365\n",
            "Train Accuracy:  0.3582\n",
            "Validation Accuracy:  0.4315\n",
            "Epoch: 14, Loss: 1.761902\n",
            "Train Accuracy:  0.3856\n",
            "Validation Accuracy:  0.4291\n",
            "Epoch: 15, Loss: 1.664350\n",
            "Train Accuracy:  0.3876\n",
            "Validation Accuracy:  0.4361\n",
            "Epoch: 16, Loss: 1.775106\n",
            "Train Accuracy:  0.3804\n",
            "Validation Accuracy:  0.437\n",
            "Epoch: 17, Loss: 1.700248\n",
            "Train Accuracy:  0.4062\n",
            "Validation Accuracy:  0.4515\n",
            "Epoch: 18, Loss: 1.665349\n",
            "Train Accuracy:  0.4066\n",
            "Validation Accuracy:  0.4512\n",
            "Epoch: 19, Loss: 1.680294\n",
            "Train Accuracy:  0.4032\n",
            "Validation Accuracy:  0.4596\n",
            "Epoch: 20, Loss: 1.457097\n",
            "Train Accuracy:  0.413\n",
            "Validation Accuracy:  0.4594\n",
            "Epoch: 21, Loss: 1.656345\n",
            "Train Accuracy:  0.412\n",
            "Validation Accuracy:  0.4545\n",
            "Epoch: 22, Loss: 1.573365\n",
            "Train Accuracy:  0.4308\n",
            "Validation Accuracy:  0.4719\n",
            "Epoch: 23, Loss: 1.573055\n",
            "Train Accuracy:  0.462\n",
            "Validation Accuracy:  0.5044\n",
            "Epoch: 24, Loss: 1.439662\n",
            "Train Accuracy:  0.4662\n",
            "Validation Accuracy:  0.495\n",
            "Epoch: 25, Loss: 1.775912\n",
            "Train Accuracy:  0.4502\n",
            "Validation Accuracy:  0.4985\n",
            "Epoch: 26, Loss: 1.395316\n",
            "Train Accuracy:  0.462\n",
            "Validation Accuracy:  0.5\n",
            "Epoch: 27, Loss: 1.270190\n",
            "Train Accuracy:  0.4864\n",
            "Validation Accuracy:  0.5232\n",
            "Epoch: 28, Loss: 1.421583\n",
            "Train Accuracy:  0.5162\n",
            "Validation Accuracy:  0.5433\n",
            "Epoch: 29, Loss: 1.557919\n",
            "Train Accuracy:  0.4956\n",
            "Validation Accuracy:  0.5426\n",
            "Epoch: 30, Loss: 1.436094\n",
            "Train Accuracy:  0.5026\n",
            "Validation Accuracy:  0.5366\n",
            "Epoch: 31, Loss: 1.311778\n",
            "Train Accuracy:  0.511\n",
            "Validation Accuracy:  0.546\n",
            "Epoch: 32, Loss: 1.313152\n",
            "Train Accuracy:  0.5378\n",
            "Validation Accuracy:  0.5687\n",
            "Epoch: 33, Loss: 1.152377\n",
            "Train Accuracy:  0.5414\n",
            "Validation Accuracy:  0.5691\n",
            "Epoch: 34, Loss: 1.293031\n",
            "Train Accuracy:  0.5628\n",
            "Validation Accuracy:  0.5876\n",
            "Epoch: 35, Loss: 1.220923\n",
            "Train Accuracy:  0.5582\n",
            "Validation Accuracy:  0.5865\n",
            "Epoch: 36, Loss: 1.203238\n",
            "Train Accuracy:  0.5718\n",
            "Validation Accuracy:  0.5916\n",
            "Epoch: 37, Loss: 1.233464\n",
            "Train Accuracy:  0.5854\n",
            "Validation Accuracy:  0.6137\n",
            "Epoch: 38, Loss: 1.134044\n",
            "Train Accuracy:  0.5948\n",
            "Validation Accuracy:  0.6226\n",
            "Epoch: 39, Loss: 1.076448\n",
            "Train Accuracy:  0.6086\n",
            "Validation Accuracy:  0.613\n",
            "Epoch: 40, Loss: 1.054996\n",
            "Train Accuracy:  0.5978\n",
            "Validation Accuracy:  0.6088\n",
            "Epoch: 41, Loss: 0.996586\n",
            "Train Accuracy:  0.6274\n",
            "Validation Accuracy:  0.6315\n",
            "Epoch: 42, Loss: 0.871368\n",
            "Train Accuracy:  0.6154\n",
            "Validation Accuracy:  0.6263\n",
            "Epoch: 43, Loss: 1.154006\n",
            "Train Accuracy:  0.6098\n",
            "Validation Accuracy:  0.6138\n",
            "Epoch: 44, Loss: 1.003732\n",
            "Train Accuracy:  0.6358\n",
            "Validation Accuracy:  0.6388\n",
            "Epoch: 45, Loss: 0.967447\n",
            "Train Accuracy:  0.66\n",
            "Validation Accuracy:  0.6533\n",
            "Epoch: 46, Loss: 1.028831\n",
            "Train Accuracy:  0.6624\n",
            "Validation Accuracy:  0.6566\n",
            "Epoch: 47, Loss: 0.876582\n",
            "Train Accuracy:  0.6758\n",
            "Validation Accuracy:  0.6656\n",
            "Epoch: 48, Loss: 0.849855\n",
            "Train Accuracy:  0.669\n",
            "Validation Accuracy:  0.668\n",
            "Epoch: 49, Loss: 0.887933\n",
            "Train Accuracy:  0.675\n",
            "Validation Accuracy:  0.6656\n",
            "Epoch: 50, Loss: 0.758857\n",
            "Train Accuracy:  0.6848\n",
            "Validation Accuracy:  0.6684\n",
            "Epoch: 51, Loss: 0.918787\n",
            "Train Accuracy:  0.6974\n",
            "Validation Accuracy:  0.6754\n",
            "Epoch: 52, Loss: 0.890023\n",
            "Train Accuracy:  0.7112\n",
            "Validation Accuracy:  0.6799\n",
            "Epoch: 53, Loss: 0.959627\n",
            "Train Accuracy:  0.716\n",
            "Validation Accuracy:  0.6798\n",
            "Epoch: 54, Loss: 0.905101\n",
            "Train Accuracy:  0.7168\n",
            "Validation Accuracy:  0.686\n",
            "Epoch: 55, Loss: 0.765179\n",
            "Train Accuracy:  0.7306\n",
            "Validation Accuracy:  0.6959\n",
            "Epoch: 56, Loss: 0.790315\n",
            "Train Accuracy:  0.738\n",
            "Validation Accuracy:  0.6967\n",
            "Epoch: 57, Loss: 0.772207\n",
            "Train Accuracy:  0.7434\n",
            "Validation Accuracy:  0.6924\n",
            "Epoch: 58, Loss: 0.693529\n",
            "Train Accuracy:  0.749\n",
            "Validation Accuracy:  0.7011\n",
            "Epoch: 59, Loss: 0.859368\n",
            "Train Accuracy:  0.7614\n",
            "Validation Accuracy:  0.702\n",
            "Epoch: 60, Loss: 0.848198\n",
            "Train Accuracy:  0.7746\n",
            "Validation Accuracy:  0.7097\n",
            "Epoch: 61, Loss: 0.632727\n",
            "Train Accuracy:  0.7744\n",
            "Validation Accuracy:  0.7148\n",
            "Epoch: 62, Loss: 0.707100\n",
            "Train Accuracy:  0.7644\n",
            "Validation Accuracy:  0.6995\n",
            "Epoch: 63, Loss: 0.749544\n",
            "Train Accuracy:  0.7906\n",
            "Validation Accuracy:  0.7109\n",
            "Epoch: 64, Loss: 0.769838\n",
            "Train Accuracy:  0.775\n",
            "Validation Accuracy:  0.7135\n",
            "Epoch: 65, Loss: 0.738440\n",
            "Train Accuracy:  0.7966\n",
            "Validation Accuracy:  0.7236\n",
            "Epoch: 66, Loss: 0.574452\n",
            "Train Accuracy:  0.7946\n",
            "Validation Accuracy:  0.7209\n",
            "Epoch: 67, Loss: 0.541392\n",
            "Train Accuracy:  0.7964\n",
            "Validation Accuracy:  0.7289\n",
            "Epoch: 68, Loss: 0.661327\n",
            "Train Accuracy:  0.8146\n",
            "Validation Accuracy:  0.7303\n",
            "Epoch: 69, Loss: 0.629544\n",
            "Train Accuracy:  0.8168\n",
            "Validation Accuracy:  0.7319\n",
            "Epoch: 70, Loss: 0.508666\n",
            "Train Accuracy:  0.8334\n",
            "Validation Accuracy:  0.7228\n",
            "Epoch: 71, Loss: 0.381611\n",
            "Train Accuracy:  0.8262\n",
            "Validation Accuracy:  0.725\n",
            "Epoch: 72, Loss: 0.539155\n",
            "Train Accuracy:  0.8308\n",
            "Validation Accuracy:  0.7219\n",
            "Epoch: 73, Loss: 0.436034\n",
            "Train Accuracy:  0.8394\n",
            "Validation Accuracy:  0.7412\n",
            "Epoch: 74, Loss: 0.569122\n",
            "Train Accuracy:  0.8352\n",
            "Validation Accuracy:  0.7331\n",
            "Epoch: 75, Loss: 0.613034\n",
            "Train Accuracy:  0.8464\n",
            "Validation Accuracy:  0.736\n",
            "Epoch: 76, Loss: 0.472525\n",
            "Train Accuracy:  0.8528\n",
            "Validation Accuracy:  0.7425\n",
            "Epoch: 77, Loss: 0.429658\n",
            "Train Accuracy:  0.8516\n",
            "Validation Accuracy:  0.7384\n",
            "Epoch: 78, Loss: 0.382403\n",
            "Train Accuracy:  0.8588\n",
            "Validation Accuracy:  0.7383\n",
            "Epoch: 79, Loss: 0.547996\n",
            "Train Accuracy:  0.8638\n",
            "Validation Accuracy:  0.7389\n",
            "Epoch: 80, Loss: 0.504153\n",
            "Train Accuracy:  0.8664\n",
            "Validation Accuracy:  0.7358\n",
            "Epoch: 81, Loss: 0.411848\n",
            "Train Accuracy:  0.8764\n",
            "Validation Accuracy:  0.7379\n",
            "Epoch: 82, Loss: 0.490316\n",
            "Train Accuracy:  0.8778\n",
            "Validation Accuracy:  0.739\n",
            "Epoch: 83, Loss: 0.320168\n",
            "Train Accuracy:  0.8858\n",
            "Validation Accuracy:  0.7412\n",
            "Epoch: 84, Loss: 0.376892\n",
            "Train Accuracy:  0.8924\n",
            "Validation Accuracy:  0.7418\n",
            "Epoch: 85, Loss: 0.483042\n",
            "Train Accuracy:  0.8916\n",
            "Validation Accuracy:  0.7428\n",
            "Epoch: 86, Loss: 0.422571\n",
            "Train Accuracy:  0.896\n",
            "Validation Accuracy:  0.7467\n",
            "Epoch: 87, Loss: 0.477497\n",
            "Train Accuracy:  0.8964\n",
            "Validation Accuracy:  0.752\n",
            "Epoch: 88, Loss: 0.370146\n",
            "Train Accuracy:  0.8974\n",
            "Validation Accuracy:  0.7465\n",
            "Epoch: 89, Loss: 0.194687\n",
            "Train Accuracy:  0.9012\n",
            "Validation Accuracy:  0.7516\n",
            "Epoch: 90, Loss: 0.276039\n",
            "Train Accuracy:  0.9088\n",
            "Validation Accuracy:  0.7492\n",
            "Epoch: 91, Loss: 0.264859\n",
            "Train Accuracy:  0.907\n",
            "Validation Accuracy:  0.7533\n",
            "Epoch: 92, Loss: 0.428013\n",
            "Train Accuracy:  0.913\n",
            "Validation Accuracy:  0.7517\n",
            "Epoch: 93, Loss: 0.328436\n",
            "Train Accuracy:  0.9064\n",
            "Validation Accuracy:  0.7523\n",
            "Epoch: 94, Loss: 0.375655\n",
            "Train Accuracy:  0.9118\n",
            "Validation Accuracy:  0.7542\n",
            "Epoch: 95, Loss: 0.279599\n",
            "Train Accuracy:  0.918\n",
            "Validation Accuracy:  0.7502\n",
            "Epoch: 96, Loss: 0.224904\n",
            "Train Accuracy:  0.9208\n",
            "Validation Accuracy:  0.7562\n",
            "Epoch: 97, Loss: 0.263724\n",
            "Train Accuracy:  0.9216\n",
            "Validation Accuracy:  0.7526\n",
            "Epoch: 98, Loss: 0.218073\n",
            "Train Accuracy:  0.9182\n",
            "Validation Accuracy:  0.756\n",
            "Epoch: 99, Loss: 0.331510\n",
            "Train Accuracy:  0.9256\n",
            "Validation Accuracy:  0.7555\n",
            "Epoch: 100, Loss: 0.264591\n",
            "Train Accuracy:  0.9236\n",
            "Validation Accuracy:  0.7529\n",
            "Epoch: 101, Loss: 0.365298\n",
            "Train Accuracy:  0.9276\n",
            "Validation Accuracy:  0.7565\n",
            "Epoch: 102, Loss: 0.233957\n",
            "Train Accuracy:  0.927\n",
            "Validation Accuracy:  0.7561\n",
            "Epoch: 103, Loss: 0.301144\n",
            "Train Accuracy:  0.9352\n",
            "Validation Accuracy:  0.7591\n",
            "Epoch: 104, Loss: 0.214156\n",
            "Train Accuracy:  0.936\n",
            "Validation Accuracy:  0.7604\n",
            "Epoch: 105, Loss: 0.242890\n",
            "Train Accuracy:  0.9306\n",
            "Validation Accuracy:  0.755\n",
            "Epoch: 106, Loss: 0.170871\n",
            "Train Accuracy:  0.9348\n",
            "Validation Accuracy:  0.7559\n",
            "Epoch: 107, Loss: 0.135916\n",
            "Train Accuracy:  0.935\n",
            "Validation Accuracy:  0.7552\n",
            "Epoch: 108, Loss: 0.153333\n",
            "Train Accuracy:  0.9326\n",
            "Validation Accuracy:  0.759\n",
            "Epoch: 109, Loss: 0.252750\n",
            "Train Accuracy:  0.9376\n",
            "Validation Accuracy:  0.7594\n",
            "Epoch: 110, Loss: 0.237225\n",
            "Train Accuracy:  0.9396\n",
            "Validation Accuracy:  0.7602\n",
            "Epoch: 111, Loss: 0.176478\n",
            "Train Accuracy:  0.9422\n",
            "Validation Accuracy:  0.7625\n",
            "Epoch: 112, Loss: 0.192169\n",
            "Train Accuracy:  0.9436\n",
            "Validation Accuracy:  0.7602\n",
            "Epoch: 113, Loss: 0.210457\n",
            "Train Accuracy:  0.9414\n",
            "Validation Accuracy:  0.76\n",
            "Epoch: 114, Loss: 0.138792\n",
            "Train Accuracy:  0.9474\n",
            "Validation Accuracy:  0.7612\n",
            "Epoch: 115, Loss: 0.174191\n",
            "Train Accuracy:  0.945\n",
            "Validation Accuracy:  0.7614\n",
            "Epoch: 116, Loss: 0.163563\n",
            "Train Accuracy:  0.9466\n",
            "Validation Accuracy:  0.7644\n",
            "Epoch: 117, Loss: 0.144164\n",
            "Train Accuracy:  0.9456\n",
            "Validation Accuracy:  0.7621\n",
            "Epoch: 118, Loss: 0.171096\n",
            "Train Accuracy:  0.945\n",
            "Validation Accuracy:  0.7609\n",
            "Epoch: 119, Loss: 0.130961\n",
            "Train Accuracy:  0.9512\n",
            "Validation Accuracy:  0.7624\n",
            "Epoch: 120, Loss: 0.183020\n",
            "Train Accuracy:  0.9468\n",
            "Validation Accuracy:  0.7611\n",
            "Epoch: 121, Loss: 0.150422\n",
            "Train Accuracy:  0.9428\n",
            "Validation Accuracy:  0.7627\n",
            "Epoch: 122, Loss: 0.163572\n",
            "Train Accuracy:  0.9504\n",
            "Validation Accuracy:  0.7628\n",
            "Epoch: 123, Loss: 0.226632\n",
            "Train Accuracy:  0.9476\n",
            "Validation Accuracy:  0.7628\n",
            "Epoch: 124, Loss: 0.237135\n",
            "Train Accuracy:  0.9498\n",
            "Validation Accuracy:  0.7637\n",
            "Epoch: 125, Loss: 0.157387\n",
            "Train Accuracy:  0.9478\n",
            "Validation Accuracy:  0.764\n",
            "Epoch: 126, Loss: 0.169904\n",
            "Train Accuracy:  0.9534\n",
            "Validation Accuracy:  0.7636\n",
            "Epoch: 127, Loss: 0.168617\n",
            "Train Accuracy:  0.9512\n",
            "Validation Accuracy:  0.7636\n",
            "Epoch: 128, Loss: 0.129981\n",
            "Train Accuracy:  0.9446\n",
            "Validation Accuracy:  0.7633\n",
            "Epoch: 129, Loss: 0.128445\n",
            "Train Accuracy:  0.956\n",
            "Validation Accuracy:  0.7632\n",
            "0.7644\n"
          ],
          "name": "stdout"
        }
      ]
    },
    {
      "cell_type": "code",
      "metadata": {
        "colab": {
          "base_uri": "https://localhost:8080/",
          "height": 297
        },
        "id": "AQfiG13NY-PC",
        "outputId": "854ae385-b5f0-4c95-bacf-7a89e59da639"
      },
      "source": [
        "plt.plot(epochs, val_acc, label=\"val acc\", color=\"green\", linestyle='-.')\r\n",
        "plt.plot(epochs, train_acc, label=\"train acc\", color=\"red\",linestyle=':')\r\n",
        "plt.scatter([max_epoch], [max_validation],color=\"blue\", marker=\"d\", label=\"early stopped\", s=100 )\r\n",
        "plt.title(\"TinyCIFAR Model w/ Augmentations \")\r\n",
        "plt.legend()\r\n",
        "plt.tight_layout()\r\n",
        "plt.savefig('tinyAug5[224].png',dpi=600)\r\n",
        "plt.show()\r\n",
        "#torch.save(val_acc, '/content/drive/MyDrive/ELL793/Assn3/tiny_with_aug/val_acc_tinyaug5.pt')\r\n",
        "#torch.save(train_acc, '/content/drive/MyDrive/ELL793/Assn3/tiny_with_aug/train_acc_tinyaug5.pt')"
      ],
      "execution_count": null,
      "outputs": [
        {
          "output_type": "display_data",
          "data": {
            "image/png": "[encoded data removed]",
            "text/plain": [
              "<Figure size 432x288 with 1 Axes>"
            ]
          },
          "metadata": {
            "tags": [],
            "needs_background": "light"
          }
        }
      ]
    },
    {
      "cell_type": "code",
      "metadata": {
        "colab": {
          "base_uri": "https://localhost:8080/",
          "height": 34
        },
        "id": "Cp56k0loaP5o",
        "outputId": "0d848c9a-e664-49be-c9dd-2471f4e0b138"
      },
      "source": [
        "print(max_validation)\r\n",
        "from google.colab import files\r\n",
        "files.download('tinyAug5[224].png') \r\n"
      ],
      "execution_count": null,
      "outputs": [
        {
          "output_type": "stream",
          "text": [
            "0.7644\n"
          ],
          "name": "stdout"
        },
        {
          "output_type": "display_data",
          "data": {
            "application/javascript": [
              "\n",
              "    async function download(id, filename, size) {\n",
              "      if (!google.colab.kernel.accessAllowed) {\n",
              "        return;\n",
              "      }\n",
              "      const div = document.createElement('div');\n",
              "      const label = document.createElement('label');\n",
              "      label.textContent = `Downloading \"${filename}\": `;\n",
              "      div.appendChild(label);\n",
              "      const progress = document.createElement('progress');\n",
              "      progress.max = size;\n",
              "      div.appendChild(progress);\n",
              "      document.body.appendChild(div);\n",
              "\n",
              "      const buffers = [];\n",
              "      let downloaded = 0;\n",
              "\n",
              "      const channel = await google.colab.kernel.comms.open(id);\n",
              "      // Send a message to notify the kernel that we're ready.\n",
              "      channel.send({})\n",
              "\n",
              "      for await (const message of channel.messages) {\n",
              "        // Send a message to notify the kernel that we're ready.\n",
              "        channel.send({})\n",
              "        if (message.buffers) {\n",
              "          for (const buffer of message.buffers) {\n",
              "            buffers.push(buffer);\n",
              "            downloaded += buffer.byteLength;\n",
              "            progress.value = downloaded;\n",
              "          }\n",
              "        }\n",
              "      }\n",
              "      const blob = new Blob(buffers, {type: 'application/binary'});\n",
              "      const a = document.createElement('a');\n",
              "      a.href = window.URL.createObjectURL(blob);\n",
              "      a.download = filename;\n",
              "      div.appendChild(a);\n",
              "      a.click();\n",
              "      div.remove();\n",
              "    }\n",
              "  "
            ],
            "text/plain": [
              "<IPython.core.display.Javascript object>"
            ]
          },
          "metadata": {
            "tags": []
          }
        },
        {
          "output_type": "display_data",
          "data": {
            "application/javascript": [
              "download(\"download_4fae0bdd-940e-47c7-81a3-8b3315c2dee8\", \"tinyAug5[224].png\", 238166)"
            ],
            "text/plain": [
              "<IPython.core.display.Javascript object>"
            ]
          },
          "metadata": {
            "tags": []
          }
        }
      ]
    }
  ]
}